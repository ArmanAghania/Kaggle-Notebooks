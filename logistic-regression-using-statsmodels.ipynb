{
 "cells": [
  {
   "cell_type": "markdown",
   "id": "12a4ec6e",
   "metadata": {
    "papermill": {
     "duration": 0.005667,
     "end_time": "2023-08-16T18:17:30.473333",
     "exception": false,
     "start_time": "2023-08-16T18:17:30.467666",
     "status": "completed"
    },
    "tags": []
   },
   "source": [
    "# Directory, Libraries and Data"
   ]
  },
  {
   "cell_type": "code",
   "execution_count": 1,
   "id": "2da32b8d",
   "metadata": {
    "execution": {
     "iopub.execute_input": "2023-08-16T18:17:30.486871Z",
     "iopub.status.busy": "2023-08-16T18:17:30.485726Z",
     "iopub.status.idle": "2023-08-16T18:17:33.698297Z",
     "shell.execute_reply": "2023-08-16T18:17:33.696522Z"
    },
    "papermill": {
     "duration": 3.222577,
     "end_time": "2023-08-16T18:17:33.701053",
     "exception": false,
     "start_time": "2023-08-16T18:17:30.478476",
     "status": "completed"
    },
    "tags": []
   },
   "outputs": [
    {
     "name": "stderr",
     "output_type": "stream",
     "text": [
      "/opt/conda/lib/python3.10/site-packages/scipy/__init__.py:146: UserWarning: A NumPy version >=1.16.5 and <1.23.0 is required for this version of SciPy (detected version 1.23.5\n",
      "  warnings.warn(f\"A NumPy version >={np_minversion} and <{np_maxversion}\"\n"
     ]
    }
   ],
   "source": [
    "#Dependencies\n",
    "import pandas as pd\n",
    "import statsmodels.api as sm\n",
    "import seaborn as sns\n",
    "import numpy as np"
   ]
  },
  {
   "cell_type": "markdown",
   "id": "a9b287b1",
   "metadata": {
    "papermill": {
     "duration": 0.005369,
     "end_time": "2023-08-16T18:17:33.712188",
     "exception": false,
     "start_time": "2023-08-16T18:17:33.706819",
     "status": "completed"
    },
    "tags": []
   },
   "source": [
    "# Spam E-mail Data\n",
    "## Description\n",
    "The data consist of 4601 email items, of which 1813 items were identified as spam.\n",
    "### Usage\n",
    "* spam7\n",
    "\n",
    "### Format\n",
    "This data frame contains the following columns:\n",
    "* crl.tot\n",
    "  * total length of words in capitals\n",
    "* dollar\n",
    "  * number of occurrences of the \\$ symbol\n",
    "* bang\n",
    "  * number of occurrences of the ! symbol\n",
    "* money\n",
    "  * number of occurrences of the word ‘money’\n",
    "* n000\n",
    "  * number of occurrences of the string ‘000’\n",
    "* make\n",
    "  * number of occurrences of the word ‘make’\n",
    "* yesno\n",
    "  * outcome variable, a factor with levels n not spam, y spam"
   ]
  },
  {
   "cell_type": "code",
   "execution_count": 2,
   "id": "a68deef4",
   "metadata": {
    "execution": {
     "iopub.execute_input": "2023-08-16T18:17:33.724943Z",
     "iopub.status.busy": "2023-08-16T18:17:33.724618Z",
     "iopub.status.idle": "2023-08-16T18:17:33.776500Z",
     "shell.execute_reply": "2023-08-16T18:17:33.774883Z"
    },
    "papermill": {
     "duration": 0.0617,
     "end_time": "2023-08-16T18:17:33.779367",
     "exception": false,
     "start_time": "2023-08-16T18:17:33.717667",
     "status": "completed"
    },
    "tags": []
   },
   "outputs": [
    {
     "data": {
      "text/html": [
       "<div>\n",
       "<style scoped>\n",
       "    .dataframe tbody tr th:only-of-type {\n",
       "        vertical-align: middle;\n",
       "    }\n",
       "\n",
       "    .dataframe tbody tr th {\n",
       "        vertical-align: top;\n",
       "    }\n",
       "\n",
       "    .dataframe thead th {\n",
       "        text-align: right;\n",
       "    }\n",
       "</style>\n",
       "<table border=\"1\" class=\"dataframe\">\n",
       "  <thead>\n",
       "    <tr style=\"text-align: right;\">\n",
       "      <th></th>\n",
       "      <th>crl.tot</th>\n",
       "      <th>dollar</th>\n",
       "      <th>bang</th>\n",
       "      <th>money</th>\n",
       "      <th>n000</th>\n",
       "      <th>make</th>\n",
       "      <th>yesno</th>\n",
       "    </tr>\n",
       "  </thead>\n",
       "  <tbody>\n",
       "    <tr>\n",
       "      <th>0</th>\n",
       "      <td>278</td>\n",
       "      <td>0.000</td>\n",
       "      <td>0.778</td>\n",
       "      <td>0.00</td>\n",
       "      <td>0.00</td>\n",
       "      <td>0.00</td>\n",
       "      <td>y</td>\n",
       "    </tr>\n",
       "    <tr>\n",
       "      <th>1</th>\n",
       "      <td>1028</td>\n",
       "      <td>0.180</td>\n",
       "      <td>0.372</td>\n",
       "      <td>0.43</td>\n",
       "      <td>0.43</td>\n",
       "      <td>0.21</td>\n",
       "      <td>y</td>\n",
       "    </tr>\n",
       "    <tr>\n",
       "      <th>2</th>\n",
       "      <td>2259</td>\n",
       "      <td>0.184</td>\n",
       "      <td>0.276</td>\n",
       "      <td>0.06</td>\n",
       "      <td>1.16</td>\n",
       "      <td>0.06</td>\n",
       "      <td>y</td>\n",
       "    </tr>\n",
       "    <tr>\n",
       "      <th>3</th>\n",
       "      <td>191</td>\n",
       "      <td>0.000</td>\n",
       "      <td>0.137</td>\n",
       "      <td>0.00</td>\n",
       "      <td>0.00</td>\n",
       "      <td>0.00</td>\n",
       "      <td>y</td>\n",
       "    </tr>\n",
       "    <tr>\n",
       "      <th>4</th>\n",
       "      <td>191</td>\n",
       "      <td>0.000</td>\n",
       "      <td>0.135</td>\n",
       "      <td>0.00</td>\n",
       "      <td>0.00</td>\n",
       "      <td>0.00</td>\n",
       "      <td>y</td>\n",
       "    </tr>\n",
       "  </tbody>\n",
       "</table>\n",
       "</div>"
      ],
      "text/plain": [
       "   crl.tot  dollar   bang  money  n000  make yesno\n",
       "0      278   0.000  0.778   0.00  0.00  0.00     y\n",
       "1     1028   0.180  0.372   0.43  0.43  0.21     y\n",
       "2     2259   0.184  0.276   0.06  1.16  0.06     y\n",
       "3      191   0.000  0.137   0.00  0.00  0.00     y\n",
       "4      191   0.000  0.135   0.00  0.00  0.00     y"
      ]
     },
     "execution_count": 2,
     "metadata": {},
     "output_type": "execute_result"
    }
   ],
   "source": [
    "#Load the Data\n",
    "df = pd.read_csv('/kaggle/input/spam-dataset/spam.csv')\n",
    "df.head()"
   ]
  },
  {
   "cell_type": "markdown",
   "id": "4064e776",
   "metadata": {
    "papermill": {
     "duration": 0.005187,
     "end_time": "2023-08-16T18:17:33.790678",
     "exception": false,
     "start_time": "2023-08-16T18:17:33.785491",
     "status": "completed"
    },
    "tags": []
   },
   "source": [
    "# Data Analysis"
   ]
  },
  {
   "cell_type": "code",
   "execution_count": 3,
   "id": "87722beb",
   "metadata": {
    "execution": {
     "iopub.execute_input": "2023-08-16T18:17:33.803509Z",
     "iopub.status.busy": "2023-08-16T18:17:33.803141Z",
     "iopub.status.idle": "2023-08-16T18:17:33.832151Z",
     "shell.execute_reply": "2023-08-16T18:17:33.830567Z"
    },
    "papermill": {
     "duration": 0.038975,
     "end_time": "2023-08-16T18:17:33.834965",
     "exception": false,
     "start_time": "2023-08-16T18:17:33.795990",
     "status": "completed"
    },
    "tags": []
   },
   "outputs": [
    {
     "data": {
      "text/html": [
       "<div>\n",
       "<style scoped>\n",
       "    .dataframe tbody tr th:only-of-type {\n",
       "        vertical-align: middle;\n",
       "    }\n",
       "\n",
       "    .dataframe tbody tr th {\n",
       "        vertical-align: top;\n",
       "    }\n",
       "\n",
       "    .dataframe thead th {\n",
       "        text-align: right;\n",
       "    }\n",
       "</style>\n",
       "<table border=\"1\" class=\"dataframe\">\n",
       "  <thead>\n",
       "    <tr style=\"text-align: right;\">\n",
       "      <th></th>\n",
       "      <th>crl.tot</th>\n",
       "      <th>dollar</th>\n",
       "      <th>bang</th>\n",
       "      <th>money</th>\n",
       "      <th>n000</th>\n",
       "      <th>make</th>\n",
       "    </tr>\n",
       "  </thead>\n",
       "  <tbody>\n",
       "    <tr>\n",
       "      <th>count</th>\n",
       "      <td>4601.000000</td>\n",
       "      <td>4601.000000</td>\n",
       "      <td>4601.000000</td>\n",
       "      <td>4601.000000</td>\n",
       "      <td>4601.000000</td>\n",
       "      <td>4601.000000</td>\n",
       "    </tr>\n",
       "    <tr>\n",
       "      <th>mean</th>\n",
       "      <td>283.289285</td>\n",
       "      <td>0.075811</td>\n",
       "      <td>0.269071</td>\n",
       "      <td>0.094269</td>\n",
       "      <td>0.101645</td>\n",
       "      <td>0.104553</td>\n",
       "    </tr>\n",
       "    <tr>\n",
       "      <th>std</th>\n",
       "      <td>606.347851</td>\n",
       "      <td>0.245882</td>\n",
       "      <td>0.815672</td>\n",
       "      <td>0.442636</td>\n",
       "      <td>0.350286</td>\n",
       "      <td>0.305358</td>\n",
       "    </tr>\n",
       "    <tr>\n",
       "      <th>min</th>\n",
       "      <td>1.000000</td>\n",
       "      <td>0.000000</td>\n",
       "      <td>0.000000</td>\n",
       "      <td>0.000000</td>\n",
       "      <td>0.000000</td>\n",
       "      <td>0.000000</td>\n",
       "    </tr>\n",
       "    <tr>\n",
       "      <th>25%</th>\n",
       "      <td>35.000000</td>\n",
       "      <td>0.000000</td>\n",
       "      <td>0.000000</td>\n",
       "      <td>0.000000</td>\n",
       "      <td>0.000000</td>\n",
       "      <td>0.000000</td>\n",
       "    </tr>\n",
       "    <tr>\n",
       "      <th>50%</th>\n",
       "      <td>95.000000</td>\n",
       "      <td>0.000000</td>\n",
       "      <td>0.000000</td>\n",
       "      <td>0.000000</td>\n",
       "      <td>0.000000</td>\n",
       "      <td>0.000000</td>\n",
       "    </tr>\n",
       "    <tr>\n",
       "      <th>75%</th>\n",
       "      <td>266.000000</td>\n",
       "      <td>0.052000</td>\n",
       "      <td>0.315000</td>\n",
       "      <td>0.000000</td>\n",
       "      <td>0.000000</td>\n",
       "      <td>0.000000</td>\n",
       "    </tr>\n",
       "    <tr>\n",
       "      <th>max</th>\n",
       "      <td>15841.000000</td>\n",
       "      <td>6.003000</td>\n",
       "      <td>32.478000</td>\n",
       "      <td>12.500000</td>\n",
       "      <td>5.450000</td>\n",
       "      <td>4.540000</td>\n",
       "    </tr>\n",
       "  </tbody>\n",
       "</table>\n",
       "</div>"
      ],
      "text/plain": [
       "            crl.tot       dollar         bang        money         n000  \\\n",
       "count   4601.000000  4601.000000  4601.000000  4601.000000  4601.000000   \n",
       "mean     283.289285     0.075811     0.269071     0.094269     0.101645   \n",
       "std      606.347851     0.245882     0.815672     0.442636     0.350286   \n",
       "min        1.000000     0.000000     0.000000     0.000000     0.000000   \n",
       "25%       35.000000     0.000000     0.000000     0.000000     0.000000   \n",
       "50%       95.000000     0.000000     0.000000     0.000000     0.000000   \n",
       "75%      266.000000     0.052000     0.315000     0.000000     0.000000   \n",
       "max    15841.000000     6.003000    32.478000    12.500000     5.450000   \n",
       "\n",
       "              make  \n",
       "count  4601.000000  \n",
       "mean      0.104553  \n",
       "std       0.305358  \n",
       "min       0.000000  \n",
       "25%       0.000000  \n",
       "50%       0.000000  \n",
       "75%       0.000000  \n",
       "max       4.540000  "
      ]
     },
     "execution_count": 3,
     "metadata": {},
     "output_type": "execute_result"
    }
   ],
   "source": [
    "#summary statistics\n",
    "df.describe()"
   ]
  },
  {
   "cell_type": "code",
   "execution_count": 4,
   "id": "a89dce64",
   "metadata": {
    "execution": {
     "iopub.execute_input": "2023-08-16T18:17:33.848964Z",
     "iopub.status.busy": "2023-08-16T18:17:33.848573Z",
     "iopub.status.idle": "2023-08-16T18:17:35.081316Z",
     "shell.execute_reply": "2023-08-16T18:17:35.080401Z"
    },
    "papermill": {
     "duration": 1.241692,
     "end_time": "2023-08-16T18:17:35.083219",
     "exception": false,
     "start_time": "2023-08-16T18:17:33.841527",
     "status": "completed"
    },
    "tags": []
   },
   "outputs": [
    {
     "data": {
      "text/plain": [
       "array([[<Axes: title={'center': 'crl.tot'}>,\n",
       "        <Axes: title={'center': 'dollar'}>],\n",
       "       [<Axes: title={'center': 'bang'}>,\n",
       "        <Axes: title={'center': 'money'}>],\n",
       "       [<Axes: title={'center': 'n000'}>,\n",
       "        <Axes: title={'center': 'make'}>]], dtype=object)"
      ]
     },
     "execution_count": 4,
     "metadata": {},
     "output_type": "execute_result"
    },
    {
     "data": {
      "image/png": "[encoded data removed]",
      "text/plain": [
       "<Figure size 1500x1000 with 6 Axes>"
      ]
     },
     "metadata": {},
     "output_type": "display_data"
    }
   ],
   "source": [
    "#histograms\n",
    "df.hist(figsize = (15,10))"
   ]
  },
  {
   "cell_type": "code",
   "execution_count": 5,
   "id": "2a75ef69",
   "metadata": {
    "execution": {
     "iopub.execute_input": "2023-08-16T18:17:35.102485Z",
     "iopub.status.busy": "2023-08-16T18:17:35.102080Z",
     "iopub.status.idle": "2023-08-16T18:17:35.115309Z",
     "shell.execute_reply": "2023-08-16T18:17:35.114361Z"
    },
    "papermill": {
     "duration": 0.023806,
     "end_time": "2023-08-16T18:17:35.117816",
     "exception": false,
     "start_time": "2023-08-16T18:17:35.094010",
     "status": "completed"
    },
    "tags": []
   },
   "outputs": [
    {
     "name": "stdout",
     "output_type": "stream",
     "text": [
      "4601\n",
      "4432\n"
     ]
    }
   ],
   "source": [
    "#removing outliers\n",
    "print(len(df))\n",
    "df = df[df['crl.tot'] < 1500]\n",
    "df = df[df['bang'] < 5]\n",
    "df = df[df['money'] < 6]\n",
    "\n",
    "print(len(df))"
   ]
  },
  {
   "cell_type": "code",
   "execution_count": 6,
   "id": "0afccf59",
   "metadata": {
    "execution": {
     "iopub.execute_input": "2023-08-16T18:17:35.134107Z",
     "iopub.status.busy": "2023-08-16T18:17:35.133464Z",
     "iopub.status.idle": "2023-08-16T18:17:36.398471Z",
     "shell.execute_reply": "2023-08-16T18:17:36.397108Z"
    },
    "papermill": {
     "duration": 1.276383,
     "end_time": "2023-08-16T18:17:36.401204",
     "exception": false,
     "start_time": "2023-08-16T18:17:35.124821",
     "status": "completed"
    },
    "tags": []
   },
   "outputs": [
    {
     "data": {
      "text/plain": [
       "array([[<Axes: title={'center': 'crl.tot'}>,\n",
       "        <Axes: title={'center': 'dollar'}>],\n",
       "       [<Axes: title={'center': 'bang'}>,\n",
       "        <Axes: title={'center': 'money'}>],\n",
       "       [<Axes: title={'center': 'n000'}>,\n",
       "        <Axes: title={'center': 'make'}>]], dtype=object)"
      ]
     },
     "execution_count": 6,
     "metadata": {},
     "output_type": "execute_result"
    },
    {
     "data": {
      "image/png": "[encoded data removed]",
      "text/plain": [
       "<Figure size 1500x1000 with 6 Axes>"
      ]
     },
     "metadata": {},
     "output_type": "display_data"
    }
   ],
   "source": [
    "#histograms\n",
    "df.hist(figsize = (15,10))"
   ]
  },
  {
   "cell_type": "code",
   "execution_count": 7,
   "id": "dc345f3a",
   "metadata": {
    "execution": {
     "iopub.execute_input": "2023-08-16T18:17:36.417506Z",
     "iopub.status.busy": "2023-08-16T18:17:36.417116Z",
     "iopub.status.idle": "2023-08-16T18:17:36.719067Z",
     "shell.execute_reply": "2023-08-16T18:17:36.718133Z"
    },
    "papermill": {
     "duration": 0.312475,
     "end_time": "2023-08-16T18:17:36.721054",
     "exception": false,
     "start_time": "2023-08-16T18:17:36.408579",
     "status": "completed"
    },
    "tags": []
   },
   "outputs": [
    {
     "name": "stderr",
     "output_type": "stream",
     "text": [
      "/tmp/ipykernel_19/2309939974.py:2: FutureWarning: The default value of numeric_only in DataFrame.corr is deprecated. In a future version, it will default to False. Select only valid columns or specify the value of numeric_only to silence this warning.\n",
      "  sns.heatmap(df.corr(),\n"
     ]
    },
    {
     "data": {
      "text/plain": [
       "<Axes: >"
      ]
     },
     "execution_count": 7,
     "metadata": {},
     "output_type": "execute_result"
    },
    {
     "data": {
      "image/png": "[encoded data removed]",
      "text/plain": [
       "<Figure size 640x480 with 2 Axes>"
      ]
     },
     "metadata": {},
     "output_type": "display_data"
    }
   ],
   "source": [
    "#Correlation Matrix\n",
    "sns.heatmap(df.corr(),\n",
    "            annot = True,\n",
    "            fmt = '.1g',\n",
    "            center = 0,\n",
    "            cmap = 'coolwarm',\n",
    "            linewidths = 1,\n",
    "            linecolor = 'black')"
   ]
  },
  {
   "cell_type": "markdown",
   "id": "a294ef0c",
   "metadata": {
    "papermill": {
     "duration": 0.007095,
     "end_time": "2023-08-16T18:17:36.735813",
     "exception": false,
     "start_time": "2023-08-16T18:17:36.728718",
     "status": "completed"
    },
    "tags": []
   },
   "source": [
    "# Logistic Regression Preperation"
   ]
  },
  {
   "cell_type": "code",
   "execution_count": 8,
   "id": "47375d66",
   "metadata": {
    "execution": {
     "iopub.execute_input": "2023-08-16T18:17:36.752926Z",
     "iopub.status.busy": "2023-08-16T18:17:36.752550Z",
     "iopub.status.idle": "2023-08-16T18:17:36.769885Z",
     "shell.execute_reply": "2023-08-16T18:17:36.768417Z"
    },
    "papermill": {
     "duration": 0.028805,
     "end_time": "2023-08-16T18:17:36.772353",
     "exception": false,
     "start_time": "2023-08-16T18:17:36.743548",
     "status": "completed"
    },
    "tags": []
   },
   "outputs": [
    {
     "data": {
      "text/html": [
       "<div>\n",
       "<style scoped>\n",
       "    .dataframe tbody tr th:only-of-type {\n",
       "        vertical-align: middle;\n",
       "    }\n",
       "\n",
       "    .dataframe tbody tr th {\n",
       "        vertical-align: top;\n",
       "    }\n",
       "\n",
       "    .dataframe thead th {\n",
       "        text-align: right;\n",
       "    }\n",
       "</style>\n",
       "<table border=\"1\" class=\"dataframe\">\n",
       "  <thead>\n",
       "    <tr style=\"text-align: right;\">\n",
       "      <th></th>\n",
       "      <th>crl.tot</th>\n",
       "      <th>dollar</th>\n",
       "      <th>bang</th>\n",
       "      <th>money</th>\n",
       "      <th>n000</th>\n",
       "      <th>make</th>\n",
       "      <th>yesno</th>\n",
       "    </tr>\n",
       "  </thead>\n",
       "  <tbody>\n",
       "    <tr>\n",
       "      <th>0</th>\n",
       "      <td>278</td>\n",
       "      <td>0.00</td>\n",
       "      <td>0.778</td>\n",
       "      <td>0.00</td>\n",
       "      <td>0.00</td>\n",
       "      <td>0.00</td>\n",
       "      <td>1</td>\n",
       "    </tr>\n",
       "    <tr>\n",
       "      <th>1</th>\n",
       "      <td>1028</td>\n",
       "      <td>0.18</td>\n",
       "      <td>0.372</td>\n",
       "      <td>0.43</td>\n",
       "      <td>0.43</td>\n",
       "      <td>0.21</td>\n",
       "      <td>1</td>\n",
       "    </tr>\n",
       "    <tr>\n",
       "      <th>3</th>\n",
       "      <td>191</td>\n",
       "      <td>0.00</td>\n",
       "      <td>0.137</td>\n",
       "      <td>0.00</td>\n",
       "      <td>0.00</td>\n",
       "      <td>0.00</td>\n",
       "      <td>1</td>\n",
       "    </tr>\n",
       "    <tr>\n",
       "      <th>4</th>\n",
       "      <td>191</td>\n",
       "      <td>0.00</td>\n",
       "      <td>0.135</td>\n",
       "      <td>0.00</td>\n",
       "      <td>0.00</td>\n",
       "      <td>0.00</td>\n",
       "      <td>1</td>\n",
       "    </tr>\n",
       "    <tr>\n",
       "      <th>5</th>\n",
       "      <td>54</td>\n",
       "      <td>0.00</td>\n",
       "      <td>0.000</td>\n",
       "      <td>0.00</td>\n",
       "      <td>0.00</td>\n",
       "      <td>0.00</td>\n",
       "      <td>1</td>\n",
       "    </tr>\n",
       "  </tbody>\n",
       "</table>\n",
       "</div>"
      ],
      "text/plain": [
       "   crl.tot  dollar   bang  money  n000  make  yesno\n",
       "0      278    0.00  0.778   0.00  0.00  0.00      1\n",
       "1     1028    0.18  0.372   0.43  0.43  0.21      1\n",
       "3      191    0.00  0.137   0.00  0.00  0.00      1\n",
       "4      191    0.00  0.135   0.00  0.00  0.00      1\n",
       "5       54    0.00  0.000   0.00  0.00  0.00      1"
      ]
     },
     "execution_count": 8,
     "metadata": {},
     "output_type": "execute_result"
    }
   ],
   "source": [
    "#Prepare Dependent Variable\n",
    "df['yesno'] = np.where(df['yesno'] == 'y', 1, 0)\n",
    "df.head()"
   ]
  },
  {
   "cell_type": "code",
   "execution_count": 9,
   "id": "258f7e15",
   "metadata": {
    "execution": {
     "iopub.execute_input": "2023-08-16T18:17:36.792634Z",
     "iopub.status.busy": "2023-08-16T18:17:36.790795Z",
     "iopub.status.idle": "2023-08-16T18:17:36.800173Z",
     "shell.execute_reply": "2023-08-16T18:17:36.799484Z"
    },
    "papermill": {
     "duration": 0.021072,
     "end_time": "2023-08-16T18:17:36.802006",
     "exception": false,
     "start_time": "2023-08-16T18:17:36.780934",
     "status": "completed"
    },
    "tags": []
   },
   "outputs": [],
   "source": [
    "#Prepare the X and y\n",
    "y = df.yesno\n",
    "X = df.iloc[:,:-1]\n",
    "X = sm.add_constant(X)"
   ]
  },
  {
   "cell_type": "code",
   "execution_count": 10,
   "id": "b18f32f6",
   "metadata": {
    "execution": {
     "iopub.execute_input": "2023-08-16T18:17:36.820468Z",
     "iopub.status.busy": "2023-08-16T18:17:36.819238Z",
     "iopub.status.idle": "2023-08-16T18:17:37.072585Z",
     "shell.execute_reply": "2023-08-16T18:17:37.070863Z"
    },
    "papermill": {
     "duration": 0.265396,
     "end_time": "2023-08-16T18:17:37.075174",
     "exception": false,
     "start_time": "2023-08-16T18:17:36.809778",
     "status": "completed"
    },
    "tags": []
   },
   "outputs": [],
   "source": [
    "#Train and Test set\n",
    "from sklearn.model_selection import train_test_split\n",
    "X_train, X_test, y_train, y_test = train_test_split(X, y,\n",
    "                                                    test_size = 0.2,\n",
    "                                                    random_state = 1502)"
   ]
  },
  {
   "cell_type": "markdown",
   "id": "01cd8106",
   "metadata": {
    "papermill": {
     "duration": 0.007703,
     "end_time": "2023-08-16T18:17:37.091152",
     "exception": false,
     "start_time": "2023-08-16T18:17:37.083449",
     "status": "completed"
    },
    "tags": []
   },
   "source": [
    "# Logistic Regression"
   ]
  },
  {
   "cell_type": "code",
   "execution_count": 11,
   "id": "69871c5c",
   "metadata": {
    "execution": {
     "iopub.execute_input": "2023-08-16T18:17:37.108913Z",
     "iopub.status.busy": "2023-08-16T18:17:37.108544Z",
     "iopub.status.idle": "2023-08-16T18:17:37.154187Z",
     "shell.execute_reply": "2023-08-16T18:17:37.153317Z"
    },
    "papermill": {
     "duration": 0.056991,
     "end_time": "2023-08-16T18:17:37.156099",
     "exception": false,
     "start_time": "2023-08-16T18:17:37.099108",
     "status": "completed"
    },
    "tags": []
   },
   "outputs": [
    {
     "name": "stdout",
     "output_type": "stream",
     "text": [
      "Optimization terminated successfully.\n",
      "         Current function value: 0.386779\n",
      "         Iterations 8\n",
      "                           Logit Regression Results                           \n",
      "==============================================================================\n",
      "Dep. Variable:                  yesno   No. Observations:                 3545\n",
      "Model:                          Logit   Df Residuals:                     3538\n",
      "Method:                           MLE   Df Model:                            6\n",
      "Date:                Wed, 16 Aug 2023   Pseudo R-squ.:                  0.4210\n",
      "Time:                        18:17:37   Log-Likelihood:                -1371.1\n",
      "converged:                       True   LL-Null:                       -2368.2\n",
      "Covariance Type:            nonrobust   LLR p-value:                     0.000\n",
      "==============================================================================\n",
      "                 coef    std err          z      P>|z|      [0.025      0.975]\n",
      "------------------------------------------------------------------------------\n",
      "const         -2.1801      0.074    -29.532      0.000      -2.325      -2.035\n",
      "crl.tot        0.0017      0.000      8.985      0.000       0.001       0.002\n",
      "dollar         6.5798      0.682      9.652      0.000       5.244       7.916\n",
      "bang           3.4796      0.191     18.238      0.000       3.106       3.854\n",
      "money          3.7237      0.398      9.354      0.000       2.943       4.504\n",
      "n000           3.3324      0.452      7.380      0.000       2.447       4.217\n",
      "make           0.0216      0.186      0.117      0.907      -0.342       0.385\n",
      "==============================================================================\n"
     ]
    }
   ],
   "source": [
    "#Logistic Regression\n",
    "model = sm.Logit(y_train, X_train).fit()\n",
    "print(model.summary())"
   ]
  },
  {
   "cell_type": "code",
   "execution_count": 12,
   "id": "75a6d4c4",
   "metadata": {
    "execution": {
     "iopub.execute_input": "2023-08-16T18:17:37.195414Z",
     "iopub.status.busy": "2023-08-16T18:17:37.194865Z",
     "iopub.status.idle": "2023-08-16T18:17:37.201202Z",
     "shell.execute_reply": "2023-08-16T18:17:37.200164Z"
    },
    "papermill": {
     "duration": 0.031645,
     "end_time": "2023-08-16T18:17:37.204386",
     "exception": false,
     "start_time": "2023-08-16T18:17:37.172741",
     "status": "completed"
    },
    "tags": []
   },
   "outputs": [],
   "source": [
    "#Create the Function\n",
    "def logistic_reader(coefficient):\n",
    "  probability = round((np.exp(coefficient) - 1) * 100, 1)\n",
    "  if probability > 0:\n",
    "    print('The likelihood increases by', probability, '%')\n",
    "  elif probability == 0:\n",
    "    print('No Impact')\n",
    "  else:\n",
    "    print('The likelihood decreases by', probability, '%')"
   ]
  },
  {
   "cell_type": "code",
   "execution_count": 13,
   "id": "263318d0",
   "metadata": {
    "execution": {
     "iopub.execute_input": "2023-08-16T18:17:37.247695Z",
     "iopub.status.busy": "2023-08-16T18:17:37.246397Z",
     "iopub.status.idle": "2023-08-16T18:17:37.251652Z",
     "shell.execute_reply": "2023-08-16T18:17:37.250929Z"
    },
    "papermill": {
     "duration": 0.024142,
     "end_time": "2023-08-16T18:17:37.253519",
     "exception": false,
     "start_time": "2023-08-16T18:17:37.229377",
     "status": "completed"
    },
    "tags": []
   },
   "outputs": [
    {
     "name": "stdout",
     "output_type": "stream",
     "text": [
      "The likelihood increases by 2.2 %\n"
     ]
    }
   ],
   "source": [
    "#Apply the Function\n",
    "logistic_reader(0.0216)"
   ]
  },
  {
   "cell_type": "markdown",
   "id": "371bedc0",
   "metadata": {
    "papermill": {
     "duration": 0.008675,
     "end_time": "2023-08-16T18:17:37.274462",
     "exception": false,
     "start_time": "2023-08-16T18:17:37.265787",
     "status": "completed"
    },
    "tags": []
   },
   "source": [
    "# Assess the Model"
   ]
  },
  {
   "cell_type": "code",
   "execution_count": 14,
   "id": "30890589",
   "metadata": {
    "execution": {
     "iopub.execute_input": "2023-08-16T18:17:37.291906Z",
     "iopub.status.busy": "2023-08-16T18:17:37.291577Z",
     "iopub.status.idle": "2023-08-16T18:17:37.302786Z",
     "shell.execute_reply": "2023-08-16T18:17:37.301201Z"
    },
    "papermill": {
     "duration": 0.022901,
     "end_time": "2023-08-16T18:17:37.305461",
     "exception": false,
     "start_time": "2023-08-16T18:17:37.282560",
     "status": "completed"
    },
    "tags": []
   },
   "outputs": [
    {
     "data": {
      "text/plain": [
       "array([1, 0, 0, 0, 0, 0, 0, 0, 0, 1, 1, 0, 0, 0, 1, 0, 1, 0, 1, 0, 1, 0,\n",
       "       0, 0, 1, 0, 0, 1, 1, 0, 0, 0, 0, 0, 0, 0, 1, 1, 0, 0, 0, 0, 0, 0,\n",
       "       1, 0, 0, 0, 1, 0, 0, 0, 0, 0, 1, 1, 1, 1, 1, 0, 0, 1, 0, 1, 0, 1,\n",
       "       0, 0, 0, 0, 0, 0, 0, 0, 0, 0, 1, 1, 1, 0, 1, 0, 1, 0, 0, 0, 1, 1,\n",
       "       0, 0, 1, 0, 0, 0, 0, 1, 1, 0, 0, 0, 0, 0, 0, 1, 0, 0, 1, 0, 1, 0,\n",
       "       1, 0, 0, 1, 0, 0, 0, 1, 0, 1, 0, 0, 0, 1, 0, 0, 0, 1, 0, 1, 0, 1,\n",
       "       1, 0, 1, 0, 0, 0, 0, 0, 0, 1, 0, 0, 0, 0, 0, 1, 0, 0, 0, 1, 0, 0,\n",
       "       1, 0, 0, 0, 0, 1, 1, 0, 0, 0, 0, 0, 0, 0, 0, 0, 1, 1, 0, 1, 0, 0,\n",
       "       0, 1, 1, 0, 0, 0, 1, 0, 1, 0, 0, 1, 0, 0, 0, 0, 0, 0, 1, 0, 1, 1,\n",
       "       0, 0, 1, 0, 0, 0, 0, 0, 1, 0, 0, 1, 0, 0, 1, 1, 0, 0, 0, 1, 0, 0,\n",
       "       0, 0, 0, 0, 1, 1, 0, 1, 0, 0, 0, 1, 1, 0, 0, 1, 0, 0, 0, 1, 0, 1,\n",
       "       0, 1, 1, 0, 0, 0, 0, 0, 0, 1, 0, 0, 1, 0, 1, 0, 1, 0, 0, 0, 0, 0,\n",
       "       0, 0, 0, 0, 1, 1, 0, 1, 0, 0, 1, 1, 1, 0, 1, 0, 0, 0, 1, 0, 0, 0,\n",
       "       1, 0, 0, 0, 0, 0, 0, 1, 0, 0, 1, 0, 0, 0, 0, 1, 0, 0, 1, 1, 1, 0,\n",
       "       0, 0, 0, 0, 0, 0, 0, 1, 1, 0, 0, 0, 0, 0, 0, 0, 0, 0, 0, 0, 1, 0,\n",
       "       0, 0, 0, 1, 0, 1, 0, 0, 0, 1, 0, 1, 0, 1, 0, 0, 0, 0, 0, 0, 0, 1,\n",
       "       1, 0, 1, 0, 0, 0, 0, 0, 0, 0, 1, 0, 0, 1, 0, 0, 0, 0, 1, 1, 0, 0,\n",
       "       0, 1, 1, 0, 0, 0, 1, 0, 0, 0, 0, 0, 0, 1, 0, 0, 0, 0, 0, 0, 0, 1,\n",
       "       1, 1, 1, 0, 0, 0, 1, 0, 0, 0, 1, 1, 1, 0, 1, 0, 0, 0, 1, 0, 1, 1,\n",
       "       0, 0, 0, 0, 1, 0, 0, 0, 0, 0, 0, 1, 0, 0, 1, 0, 0, 0, 0, 0, 0, 0,\n",
       "       0, 1, 0, 1, 0, 0, 0, 0, 0, 0, 1, 0, 1, 0, 1, 0, 0, 1, 0, 0, 0, 0,\n",
       "       1, 0, 0, 0, 0, 0, 0, 0, 0, 1, 0, 0, 0, 1, 0, 0, 1, 1, 1, 0, 0, 1,\n",
       "       0, 1, 1, 0, 1, 1, 1, 0, 0, 1, 0, 0, 0, 0, 1, 0, 0, 0, 0, 0, 0, 0,\n",
       "       1, 0, 0, 0, 0, 0, 1, 0, 0, 1, 0, 0, 0, 0, 0, 1, 0, 0, 0, 1, 1, 0,\n",
       "       1, 1, 0, 0, 0, 0, 1, 0, 0, 0, 0, 0, 1, 0, 1, 0, 1, 0, 0, 0, 0, 0,\n",
       "       0, 0, 0, 1, 0, 0, 0, 0, 0, 1, 0, 0, 0, 0, 0, 1, 1, 1, 0, 0, 0, 0,\n",
       "       0, 1, 0, 0, 1, 1, 1, 1, 0, 0, 1, 0, 1, 0, 1, 0, 1, 0, 0, 0, 0, 0,\n",
       "       1, 1, 0, 0, 0, 0, 0, 0, 0, 0, 0, 0, 0, 0, 1, 1, 0, 0, 0, 0, 0, 0,\n",
       "       0, 0, 0, 0, 1, 1, 0, 0, 0, 1, 0, 1, 0, 1, 0, 0, 0, 0, 0, 0, 0, 1,\n",
       "       1, 0, 0, 0, 0, 0, 0, 0, 1, 0, 1, 1, 0, 0, 0, 0, 0, 0, 0, 0, 0, 0,\n",
       "       0, 0, 0, 1, 1, 0, 0, 1, 0, 1, 1, 0, 0, 0, 0, 0, 1, 0, 0, 1, 1, 0,\n",
       "       0, 0, 1, 0, 0, 1, 0, 1, 0, 1, 0, 1, 1, 0, 0, 0, 1, 0, 0, 0, 0, 0,\n",
       "       1, 0, 0, 0, 0, 0, 1, 0, 0, 0, 0, 0, 1, 1, 0, 0, 0, 0, 0, 0, 0, 0,\n",
       "       0, 0, 1, 0, 1, 0, 0, 0, 0, 0, 1, 0, 1, 0, 1, 1, 0, 1, 0, 1, 1, 0,\n",
       "       1, 0, 0, 0, 0, 0, 0, 0, 1, 0, 0, 0, 1, 0, 0, 0, 0, 0, 0, 0, 1, 1,\n",
       "       0, 0, 0, 0, 0, 1, 1, 0, 1, 1, 0, 0, 0, 1, 1, 0, 0, 0, 0, 0, 0, 0,\n",
       "       0, 1, 0, 1, 0, 1, 1, 0, 0, 0, 0, 0, 0, 0, 1, 1, 1, 1, 1, 0, 1, 0,\n",
       "       0, 0, 0, 0, 0, 1, 0, 0, 0, 1, 0, 0, 1, 0, 1, 0, 0, 0, 0, 0, 0, 0,\n",
       "       1, 0, 0, 1, 0, 1, 0, 0, 1, 1, 0, 0, 1, 0, 0, 0, 0, 0, 0, 0, 1, 1,\n",
       "       1, 0, 0, 0, 1, 0, 1, 0, 0, 0, 0, 1, 0, 0, 1, 0, 0, 0, 0, 0, 1, 0,\n",
       "       0, 1, 1, 1, 0, 0, 0])"
      ]
     },
     "execution_count": 14,
     "metadata": {},
     "output_type": "execute_result"
    }
   ],
   "source": [
    "#Predictions\n",
    "predictions = model.predict(X_test)\n",
    "predictions = np.where(predictions > 0.5, 1, 0)\n",
    "predictions"
   ]
  },
  {
   "cell_type": "code",
   "execution_count": 15,
   "id": "075d6efe",
   "metadata": {
    "execution": {
     "iopub.execute_input": "2023-08-16T18:17:37.325102Z",
     "iopub.status.busy": "2023-08-16T18:17:37.324410Z",
     "iopub.status.idle": "2023-08-16T18:17:37.330723Z",
     "shell.execute_reply": "2023-08-16T18:17:37.329521Z"
    },
    "papermill": {
     "duration": 0.018177,
     "end_time": "2023-08-16T18:17:37.332532",
     "exception": false,
     "start_time": "2023-08-16T18:17:37.314355",
     "status": "completed"
    },
    "tags": []
   },
   "outputs": [
    {
     "data": {
      "text/plain": [
       "0.35400225479143177"
      ]
     },
     "execution_count": 15,
     "metadata": {},
     "output_type": "execute_result"
    }
   ],
   "source": [
    "#Check if the dataset is balanced\n",
    "y_test.mean()"
   ]
  },
  {
   "cell_type": "code",
   "execution_count": 16,
   "id": "92bcd719",
   "metadata": {
    "execution": {
     "iopub.execute_input": "2023-08-16T18:17:37.351429Z",
     "iopub.status.busy": "2023-08-16T18:17:37.350433Z",
     "iopub.status.idle": "2023-08-16T18:17:37.361710Z",
     "shell.execute_reply": "2023-08-16T18:17:37.360300Z"
    },
    "papermill": {
     "duration": 0.023117,
     "end_time": "2023-08-16T18:17:37.364171",
     "exception": false,
     "start_time": "2023-08-16T18:17:37.341054",
     "status": "completed"
    },
    "tags": []
   },
   "outputs": [],
   "source": [
    "#Confusion Matrix\n",
    "from sklearn.metrics import confusion_matrix\n",
    "confusion_matrix(y_test, predictions)\n",
    "tn, fp, fn, tp = confusion_matrix(y_test, predictions).ravel()"
   ]
  },
  {
   "cell_type": "code",
   "execution_count": 17,
   "id": "0bb83ac5",
   "metadata": {
    "execution": {
     "iopub.execute_input": "2023-08-16T18:17:37.382549Z",
     "iopub.status.busy": "2023-08-16T18:17:37.382072Z",
     "iopub.status.idle": "2023-08-16T18:17:37.387975Z",
     "shell.execute_reply": "2023-08-16T18:17:37.386856Z"
    },
    "papermill": {
     "duration": 0.017202,
     "end_time": "2023-08-16T18:17:37.389861",
     "exception": false,
     "start_time": "2023-08-16T18:17:37.372659",
     "status": "completed"
    },
    "tags": []
   },
   "outputs": [
    {
     "name": "stdout",
     "output_type": "stream",
     "text": [
      "\n",
      "      False Postives : 49\n",
      "      False Negataives: 102\n",
      "      True Positives: 212\n",
      "      True Negatives: 524\n",
      "      \n"
     ]
    }
   ],
   "source": [
    "print(f'''\n",
    "      False Postives : {fp}\n",
    "      False Negataives: {fn}\n",
    "      True Positives: {tp}\n",
    "      True Negatives: {tn}\n",
    "      ''')"
   ]
  },
  {
   "cell_type": "code",
   "execution_count": 18,
   "id": "423444d0",
   "metadata": {
    "execution": {
     "iopub.execute_input": "2023-08-16T18:17:37.409832Z",
     "iopub.status.busy": "2023-08-16T18:17:37.409116Z",
     "iopub.status.idle": "2023-08-16T18:17:37.417503Z",
     "shell.execute_reply": "2023-08-16T18:17:37.416151Z"
    },
    "papermill": {
     "duration": 0.021348,
     "end_time": "2023-08-16T18:17:37.420074",
     "exception": false,
     "start_time": "2023-08-16T18:17:37.398726",
     "status": "completed"
    },
    "tags": []
   },
   "outputs": [
    {
     "name": "stdout",
     "output_type": "stream",
     "text": [
      "Accuracy: 83.0 %\n",
      "F1 Score: 73.7 %\n",
      "Specifity: 91.4 %\n",
      "Sensitivity: 67.5 %\n"
     ]
    }
   ],
   "source": [
    "#Accuracy\n",
    "accuracy = (tp + tn) / (tp + tn + fp + fn)\n",
    "print('Accuracy:', round(accuracy * 100, 1), '%')\n",
    "\n",
    "#F1 Score\n",
    "f1 = 2*tp / (2 * tp + fn + fp)\n",
    "print('F1 Score:', round(f1 * 100, 1), '%')\n",
    "\n",
    "#Specificity\n",
    "specifity = tn / (tn + fp)\n",
    "print('Specifity:', round(specifity * 100, 1), '%')\n",
    "\n",
    "#Sensitivity\n",
    "sensitivity = tp / (tp + fn)\n",
    "print('Sensitivity:', round(sensitivity * 100, 1), '%')"
   ]
  },
  {
   "cell_type": "code",
   "execution_count": 19,
   "id": "cd2358a9",
   "metadata": {
    "execution": {
     "iopub.execute_input": "2023-08-16T18:17:37.439121Z",
     "iopub.status.busy": "2023-08-16T18:17:37.438753Z",
     "iopub.status.idle": "2023-08-16T18:17:37.445086Z",
     "shell.execute_reply": "2023-08-16T18:17:37.443650Z"
    },
    "papermill": {
     "duration": 0.018482,
     "end_time": "2023-08-16T18:17:37.447322",
     "exception": false,
     "start_time": "2023-08-16T18:17:37.428840",
     "status": "completed"
    },
    "tags": []
   },
   "outputs": [
    {
     "name": "stdout",
     "output_type": "stream",
     "text": [
      "F1 Score: 73.7 %\n"
     ]
    }
   ],
   "source": [
    "#F1 Score\n",
    "f1 = 2*tp / (2 * tp + fn + fp)\n",
    "print('F1 Score:', round(f1 * 100, 1), '%')"
   ]
  },
  {
   "cell_type": "code",
   "execution_count": 20,
   "id": "b5f102a5",
   "metadata": {
    "execution": {
     "iopub.execute_input": "2023-08-16T18:17:37.466788Z",
     "iopub.status.busy": "2023-08-16T18:17:37.466118Z",
     "iopub.status.idle": "2023-08-16T18:17:37.478861Z",
     "shell.execute_reply": "2023-08-16T18:17:37.477295Z"
    },
    "papermill": {
     "duration": 0.025527,
     "end_time": "2023-08-16T18:17:37.481545",
     "exception": false,
     "start_time": "2023-08-16T18:17:37.456018",
     "status": "completed"
    },
    "tags": []
   },
   "outputs": [
    {
     "name": "stdout",
     "output_type": "stream",
     "text": [
      "              precision    recall  f1-score   support\n",
      "\n",
      "           0       0.84      0.91      0.87       573\n",
      "           1       0.81      0.68      0.74       314\n",
      "\n",
      "    accuracy                           0.83       887\n",
      "   macro avg       0.82      0.79      0.81       887\n",
      "weighted avg       0.83      0.83      0.83       887\n",
      "\n"
     ]
    }
   ],
   "source": [
    "#Classification Report\n",
    "from sklearn.metrics import classification_report\n",
    "print(classification_report(y_test, predictions))"
   ]
  }
 ],
 "metadata": {
  "kernelspec": {
   "display_name": "Python 3",
   "language": "python",
   "name": "python3"
  },
  "language_info": {
   "codemirror_mode": {
    "name": "ipython",
    "version": 3
   },
   "file_extension": ".py",
   "mimetype": "text/x-python",
   "name": "python",
   "nbconvert_exporter": "python",
   "pygments_lexer": "ipython3",
   "version": "3.10.12"
  },
  "papermill": {
   "default_parameters": {},
   "duration": 17.175167,
   "end_time": "2023-08-16T18:17:38.613311",
   "environment_variables": {},
   "exception": null,
   "input_path": "__notebook__.ipynb",
   "output_path": "__notebook__.ipynb",
   "parameters": {},
   "start_time": "2023-08-16T18:17:21.438144",
   "version": "2.4.0"
  }
 },
 "nbformat": 4,
 "nbformat_minor": 5
}

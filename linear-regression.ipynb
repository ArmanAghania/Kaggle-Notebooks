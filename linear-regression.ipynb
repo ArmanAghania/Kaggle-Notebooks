{
 "cells": [
  {
   "cell_type": "markdown",
   "id": "062e3a58",
   "metadata": {
    "papermill": {
     "duration": 0.006217,
     "end_time": "2023-08-16T18:05:08.680484",
     "exception": false,
     "start_time": "2023-08-16T18:05:08.674267",
     "status": "completed"
    },
    "tags": []
   },
   "source": [
    "# Libraries, Directory, Data"
   ]
  },
  {
   "cell_type": "code",
   "execution_count": 1,
   "id": "c0ef1313",
   "metadata": {
    "execution": {
     "iopub.execute_input": "2023-08-16T18:05:08.694149Z",
     "iopub.status.busy": "2023-08-16T18:05:08.693634Z",
     "iopub.status.idle": "2023-08-16T18:05:11.325694Z",
     "shell.execute_reply": "2023-08-16T18:05:11.324671Z"
    },
    "papermill": {
     "duration": 2.642027,
     "end_time": "2023-08-16T18:05:11.328392",
     "exception": false,
     "start_time": "2023-08-16T18:05:08.686365",
     "status": "completed"
    },
    "tags": []
   },
   "outputs": [
    {
     "name": "stderr",
     "output_type": "stream",
     "text": [
      "/opt/conda/lib/python3.10/site-packages/scipy/__init__.py:146: UserWarning: A NumPy version >=1.16.5 and <1.23.0 is required for this version of SciPy (detected version 1.23.5\n",
      "  warnings.warn(f\"A NumPy version >={np_minversion} and <{np_maxversion}\"\n"
     ]
    }
   ],
   "source": [
    "#Dependencies\n",
    "import statsmodels.api as sm\n",
    "import matplotlib.pyplot as plt\n",
    "import numpy as np\n",
    "import pandas as pd"
   ]
  },
  {
   "cell_type": "markdown",
   "id": "aebe7969",
   "metadata": {
    "papermill": {
     "duration": 0.005497,
     "end_time": "2023-08-16T18:05:11.339898",
     "exception": false,
     "start_time": "2023-08-16T18:05:11.334401",
     "status": "completed"
    },
    "tags": []
   },
   "source": [
    "# Pricing the C's of Diamond Stones\n",
    "## Description\n",
    "* a cross-section from 2000\n",
    "* number of observations : 308\n",
    "* observation : goods\n",
    "* country : Singapore\n",
    "##Usage\n",
    "* data(Diamond)\n",
    "\n",
    "\n",
    "## Format\n",
    "### A dataframe containing :\n",
    "#### carat\n",
    "  weight of diamond stones in carat unit\n",
    "#### colour\n",
    "  a factor with levels (D,E,F,G,H,I)\n",
    "#### clarity\n",
    "  a factor with levels (IF,VVS1,VVS2,VS1,VS2)\n",
    "#### certification\n",
    "  certification body, a factor with levels ( GIA, IGI, HRD)\n",
    "#### price\n",
    "  price in Singapore \\$\n",
    "## Source\n",
    "  Chu, Singfat (2001) “Pricing the C's of Diamond Stones”, Journal of Statistics Education, 9(2)."
   ]
  },
  {
   "cell_type": "code",
   "execution_count": 2,
   "id": "4a1b472d",
   "metadata": {
    "execution": {
     "iopub.execute_input": "2023-08-16T18:05:11.352956Z",
     "iopub.status.busy": "2023-08-16T18:05:11.352548Z",
     "iopub.status.idle": "2023-08-16T18:05:11.538811Z",
     "shell.execute_reply": "2023-08-16T18:05:11.537586Z"
    },
    "papermill": {
     "duration": 0.195884,
     "end_time": "2023-08-16T18:05:11.541448",
     "exception": false,
     "start_time": "2023-08-16T18:05:11.345564",
     "status": "completed"
    },
    "tags": []
   },
   "outputs": [
    {
     "data": {
      "text/html": [
       "<div>\n",
       "<style scoped>\n",
       "    .dataframe tbody tr th:only-of-type {\n",
       "        vertical-align: middle;\n",
       "    }\n",
       "\n",
       "    .dataframe tbody tr th {\n",
       "        vertical-align: top;\n",
       "    }\n",
       "\n",
       "    .dataframe thead th {\n",
       "        text-align: right;\n",
       "    }\n",
       "</style>\n",
       "<table border=\"1\" class=\"dataframe\">\n",
       "  <thead>\n",
       "    <tr style=\"text-align: right;\">\n",
       "      <th></th>\n",
       "      <th>Unnamed: 0</th>\n",
       "      <th>carat</th>\n",
       "      <th>cut</th>\n",
       "      <th>color</th>\n",
       "      <th>clarity</th>\n",
       "      <th>depth</th>\n",
       "      <th>table</th>\n",
       "      <th>price</th>\n",
       "      <th>x</th>\n",
       "      <th>y</th>\n",
       "      <th>z</th>\n",
       "    </tr>\n",
       "  </thead>\n",
       "  <tbody>\n",
       "    <tr>\n",
       "      <th>0</th>\n",
       "      <td>1</td>\n",
       "      <td>0.23</td>\n",
       "      <td>Ideal</td>\n",
       "      <td>E</td>\n",
       "      <td>SI2</td>\n",
       "      <td>61.5</td>\n",
       "      <td>55.0</td>\n",
       "      <td>326</td>\n",
       "      <td>3.95</td>\n",
       "      <td>3.98</td>\n",
       "      <td>2.43</td>\n",
       "    </tr>\n",
       "    <tr>\n",
       "      <th>1</th>\n",
       "      <td>2</td>\n",
       "      <td>0.21</td>\n",
       "      <td>Premium</td>\n",
       "      <td>E</td>\n",
       "      <td>SI1</td>\n",
       "      <td>59.8</td>\n",
       "      <td>61.0</td>\n",
       "      <td>326</td>\n",
       "      <td>3.89</td>\n",
       "      <td>3.84</td>\n",
       "      <td>2.31</td>\n",
       "    </tr>\n",
       "    <tr>\n",
       "      <th>2</th>\n",
       "      <td>3</td>\n",
       "      <td>0.23</td>\n",
       "      <td>Good</td>\n",
       "      <td>E</td>\n",
       "      <td>VS1</td>\n",
       "      <td>56.9</td>\n",
       "      <td>65.0</td>\n",
       "      <td>327</td>\n",
       "      <td>4.05</td>\n",
       "      <td>4.07</td>\n",
       "      <td>2.31</td>\n",
       "    </tr>\n",
       "    <tr>\n",
       "      <th>3</th>\n",
       "      <td>4</td>\n",
       "      <td>0.29</td>\n",
       "      <td>Premium</td>\n",
       "      <td>I</td>\n",
       "      <td>VS2</td>\n",
       "      <td>62.4</td>\n",
       "      <td>58.0</td>\n",
       "      <td>334</td>\n",
       "      <td>4.20</td>\n",
       "      <td>4.23</td>\n",
       "      <td>2.63</td>\n",
       "    </tr>\n",
       "    <tr>\n",
       "      <th>4</th>\n",
       "      <td>5</td>\n",
       "      <td>0.31</td>\n",
       "      <td>Good</td>\n",
       "      <td>J</td>\n",
       "      <td>SI2</td>\n",
       "      <td>63.3</td>\n",
       "      <td>58.0</td>\n",
       "      <td>335</td>\n",
       "      <td>4.34</td>\n",
       "      <td>4.35</td>\n",
       "      <td>2.75</td>\n",
       "    </tr>\n",
       "  </tbody>\n",
       "</table>\n",
       "</div>"
      ],
      "text/plain": [
       "   Unnamed: 0  carat      cut color clarity  depth  table  price     x     y  \\\n",
       "0           1   0.23    Ideal     E     SI2   61.5   55.0    326  3.95  3.98   \n",
       "1           2   0.21  Premium     E     SI1   59.8   61.0    326  3.89  3.84   \n",
       "2           3   0.23     Good     E     VS1   56.9   65.0    327  4.05  4.07   \n",
       "3           4   0.29  Premium     I     VS2   62.4   58.0    334  4.20  4.23   \n",
       "4           5   0.31     Good     J     SI2   63.3   58.0    335  4.34  4.35   \n",
       "\n",
       "      z  \n",
       "0  2.43  \n",
       "1  2.31  \n",
       "2  2.31  \n",
       "3  2.63  \n",
       "4  2.75  "
      ]
     },
     "execution_count": 2,
     "metadata": {},
     "output_type": "execute_result"
    }
   ],
   "source": [
    "df = pd.read_csv('/kaggle/input/dimond-data-set/diamond.csv')\n",
    "df.head()"
   ]
  },
  {
   "cell_type": "markdown",
   "id": "9e78daf5",
   "metadata": {
    "papermill": {
     "duration": 0.005976,
     "end_time": "2023-08-16T18:05:11.553815",
     "exception": false,
     "start_time": "2023-08-16T18:05:11.547839",
     "status": "completed"
    },
    "tags": []
   },
   "source": [
    "# Data Preperation"
   ]
  },
  {
   "cell_type": "code",
   "execution_count": 3,
   "id": "17ffc588",
   "metadata": {
    "execution": {
     "iopub.execute_input": "2023-08-16T18:05:11.568423Z",
     "iopub.status.busy": "2023-08-16T18:05:11.567353Z",
     "iopub.status.idle": "2023-08-16T18:05:11.573171Z",
     "shell.execute_reply": "2023-08-16T18:05:11.572043Z"
    },
    "papermill": {
     "duration": 0.015648,
     "end_time": "2023-08-16T18:05:11.575592",
     "exception": false,
     "start_time": "2023-08-16T18:05:11.559944",
     "status": "completed"
    },
    "tags": []
   },
   "outputs": [],
   "source": [
    "#Isolate X and Y\n",
    "y = df.price\n",
    "X = df.carat"
   ]
  },
  {
   "cell_type": "code",
   "execution_count": 4,
   "id": "20ce218b",
   "metadata": {
    "execution": {
     "iopub.execute_input": "2023-08-16T18:05:11.589851Z",
     "iopub.status.busy": "2023-08-16T18:05:11.589474Z",
     "iopub.status.idle": "2023-08-16T18:05:11.603555Z",
     "shell.execute_reply": "2023-08-16T18:05:11.602454Z"
    },
    "papermill": {
     "duration": 0.02406,
     "end_time": "2023-08-16T18:05:11.605993",
     "exception": false,
     "start_time": "2023-08-16T18:05:11.581933",
     "status": "completed"
    },
    "tags": []
   },
   "outputs": [
    {
     "data": {
      "text/html": [
       "<div>\n",
       "<style scoped>\n",
       "    .dataframe tbody tr th:only-of-type {\n",
       "        vertical-align: middle;\n",
       "    }\n",
       "\n",
       "    .dataframe tbody tr th {\n",
       "        vertical-align: top;\n",
       "    }\n",
       "\n",
       "    .dataframe thead th {\n",
       "        text-align: right;\n",
       "    }\n",
       "</style>\n",
       "<table border=\"1\" class=\"dataframe\">\n",
       "  <thead>\n",
       "    <tr style=\"text-align: right;\">\n",
       "      <th></th>\n",
       "      <th>const</th>\n",
       "      <th>carat</th>\n",
       "    </tr>\n",
       "  </thead>\n",
       "  <tbody>\n",
       "    <tr>\n",
       "      <th>0</th>\n",
       "      <td>1.0</td>\n",
       "      <td>0.23</td>\n",
       "    </tr>\n",
       "    <tr>\n",
       "      <th>1</th>\n",
       "      <td>1.0</td>\n",
       "      <td>0.21</td>\n",
       "    </tr>\n",
       "  </tbody>\n",
       "</table>\n",
       "</div>"
      ],
      "text/plain": [
       "   const  carat\n",
       "0    1.0   0.23\n",
       "1    1.0   0.21"
      ]
     },
     "execution_count": 4,
     "metadata": {},
     "output_type": "execute_result"
    }
   ],
   "source": [
    "#Adding Constant\n",
    "X = sm.add_constant(X)\n",
    "X.head(2)"
   ]
  },
  {
   "cell_type": "markdown",
   "id": "f2702382",
   "metadata": {
    "papermill": {
     "duration": 0.006173,
     "end_time": "2023-08-16T18:05:11.619308",
     "exception": false,
     "start_time": "2023-08-16T18:05:11.613135",
     "status": "completed"
    },
    "tags": []
   },
   "source": [
    "# Linear Regression"
   ]
  },
  {
   "cell_type": "code",
   "execution_count": 5,
   "id": "fe591f2c",
   "metadata": {
    "execution": {
     "iopub.execute_input": "2023-08-16T18:05:11.634248Z",
     "iopub.status.busy": "2023-08-16T18:05:11.633860Z",
     "iopub.status.idle": "2023-08-16T18:05:11.686037Z",
     "shell.execute_reply": "2023-08-16T18:05:11.684898Z"
    },
    "papermill": {
     "duration": 0.06487,
     "end_time": "2023-08-16T18:05:11.690879",
     "exception": false,
     "start_time": "2023-08-16T18:05:11.626009",
     "status": "completed"
    },
    "tags": []
   },
   "outputs": [
    {
     "name": "stdout",
     "output_type": "stream",
     "text": [
      "                            OLS Regression Results                            \n",
      "==============================================================================\n",
      "Dep. Variable:                  price   R-squared:                       0.849\n",
      "Model:                            OLS   Adj. R-squared:                  0.849\n",
      "Method:                 Least Squares   F-statistic:                 3.041e+05\n",
      "Date:                Wed, 16 Aug 2023   Prob (F-statistic):               0.00\n",
      "Time:                        18:05:11   Log-Likelihood:            -4.7273e+05\n",
      "No. Observations:               53940   AIC:                         9.455e+05\n",
      "Df Residuals:                   53938   BIC:                         9.455e+05\n",
      "Df Model:                           1                                         \n",
      "Covariance Type:            nonrobust                                         \n",
      "==============================================================================\n",
      "                 coef    std err          t      P>|t|      [0.025      0.975]\n",
      "------------------------------------------------------------------------------\n",
      "const      -2256.3606     13.055   -172.830      0.000   -2281.949   -2230.772\n",
      "carat       7756.4256     14.067    551.408      0.000    7728.855    7783.996\n",
      "==============================================================================\n",
      "Omnibus:                    14025.341   Durbin-Watson:                   0.986\n",
      "Prob(Omnibus):                  0.000   Jarque-Bera (JB):           153030.525\n",
      "Skew:                           0.939   Prob(JB):                         0.00\n",
      "Kurtosis:                      11.035   Cond. No.                         3.65\n",
      "==============================================================================\n",
      "\n",
      "Notes:\n",
      "[1] Standard Errors assume that the covariance matrix of the errors is correctly specified.\n"
     ]
    }
   ],
   "source": [
    "#Regression Model\n",
    "model1 = sm.OLS(endog = y, exog = X).fit()\n",
    "print(model1.summary())"
   ]
  },
  {
   "cell_type": "code",
   "execution_count": 6,
   "id": "a6982a89",
   "metadata": {
    "execution": {
     "iopub.execute_input": "2023-08-16T18:05:11.721211Z",
     "iopub.status.busy": "2023-08-16T18:05:11.720470Z",
     "iopub.status.idle": "2023-08-16T18:05:12.282696Z",
     "shell.execute_reply": "2023-08-16T18:05:12.281441Z"
    },
    "papermill": {
     "duration": 0.580367,
     "end_time": "2023-08-16T18:05:12.285169",
     "exception": false,
     "start_time": "2023-08-16T18:05:11.704802",
     "status": "completed"
    },
    "tags": []
   },
   "outputs": [
    {
     "data": {
      "text/plain": [
       "Text(0, 0.5, 'Price')"
      ]
     },
     "execution_count": 6,
     "metadata": {},
     "output_type": "execute_result"
    },
    {
     "data": {
      "image/png": "[encoded data removed]",
      "text/plain": [
       "<Figure size 640x480 with 1 Axes>"
      ]
     },
     "metadata": {},
     "output_type": "display_data"
    }
   ],
   "source": [
    "#Plotting\n",
    "X = df.carat\n",
    "plt.plot(X, y, 'o')\n",
    "b, a = np.polyfit(X, y, 1)\n",
    "plt.plot(X, b*X + a)\n",
    "plt.xlabel('Carat')\n",
    "plt.ylabel('Price')"
   ]
  },
  {
   "cell_type": "markdown",
   "id": "d7abcd0a",
   "metadata": {
    "papermill": {
     "duration": 0.007633,
     "end_time": "2023-08-16T18:05:12.301490",
     "exception": false,
     "start_time": "2023-08-16T18:05:12.293857",
     "status": "completed"
    },
    "tags": []
   },
   "source": [
    "# Linear Regression with dummy variable"
   ]
  },
  {
   "cell_type": "code",
   "execution_count": 7,
   "id": "f4fd3ca2",
   "metadata": {
    "execution": {
     "iopub.execute_input": "2023-08-16T18:05:12.318203Z",
     "iopub.status.busy": "2023-08-16T18:05:12.317814Z",
     "iopub.status.idle": "2023-08-16T18:05:12.332377Z",
     "shell.execute_reply": "2023-08-16T18:05:12.331330Z"
    },
    "papermill": {
     "duration": 0.025813,
     "end_time": "2023-08-16T18:05:12.334857",
     "exception": false,
     "start_time": "2023-08-16T18:05:12.309044",
     "status": "completed"
    },
    "tags": []
   },
   "outputs": [
    {
     "data": {
      "text/plain": [
       "count    53940.000000\n",
       "mean         0.797940\n",
       "std          0.474011\n",
       "min          0.200000\n",
       "25%          0.400000\n",
       "50%          0.700000\n",
       "75%          1.040000\n",
       "max          5.010000\n",
       "Name: carat, dtype: float64"
      ]
     },
     "execution_count": 7,
     "metadata": {},
     "output_type": "execute_result"
    }
   ],
   "source": [
    "#Look at Carat Variable\n",
    "df.carat.describe()"
   ]
  },
  {
   "cell_type": "code",
   "execution_count": 8,
   "id": "d0c60744",
   "metadata": {
    "execution": {
     "iopub.execute_input": "2023-08-16T18:05:12.352082Z",
     "iopub.status.busy": "2023-08-16T18:05:12.351682Z",
     "iopub.status.idle": "2023-08-16T18:05:12.371161Z",
     "shell.execute_reply": "2023-08-16T18:05:12.370234Z"
    },
    "papermill": {
     "duration": 0.03084,
     "end_time": "2023-08-16T18:05:12.373449",
     "exception": false,
     "start_time": "2023-08-16T18:05:12.342609",
     "status": "completed"
    },
    "tags": []
   },
   "outputs": [
    {
     "data": {
      "text/html": [
       "<div>\n",
       "<style scoped>\n",
       "    .dataframe tbody tr th:only-of-type {\n",
       "        vertical-align: middle;\n",
       "    }\n",
       "\n",
       "    .dataframe tbody tr th {\n",
       "        vertical-align: top;\n",
       "    }\n",
       "\n",
       "    .dataframe thead th {\n",
       "        text-align: right;\n",
       "    }\n",
       "</style>\n",
       "<table border=\"1\" class=\"dataframe\">\n",
       "  <thead>\n",
       "    <tr style=\"text-align: right;\">\n",
       "      <th></th>\n",
       "      <th>Unnamed: 0</th>\n",
       "      <th>carat</th>\n",
       "      <th>cut</th>\n",
       "      <th>color</th>\n",
       "      <th>clarity</th>\n",
       "      <th>depth</th>\n",
       "      <th>table</th>\n",
       "      <th>price</th>\n",
       "      <th>x</th>\n",
       "      <th>y</th>\n",
       "      <th>z</th>\n",
       "      <th>carat_binary</th>\n",
       "    </tr>\n",
       "  </thead>\n",
       "  <tbody>\n",
       "    <tr>\n",
       "      <th>0</th>\n",
       "      <td>1</td>\n",
       "      <td>0.23</td>\n",
       "      <td>Ideal</td>\n",
       "      <td>E</td>\n",
       "      <td>SI2</td>\n",
       "      <td>61.5</td>\n",
       "      <td>55.0</td>\n",
       "      <td>326</td>\n",
       "      <td>3.95</td>\n",
       "      <td>3.98</td>\n",
       "      <td>2.43</td>\n",
       "      <td>0</td>\n",
       "    </tr>\n",
       "    <tr>\n",
       "      <th>1</th>\n",
       "      <td>2</td>\n",
       "      <td>0.21</td>\n",
       "      <td>Premium</td>\n",
       "      <td>E</td>\n",
       "      <td>SI1</td>\n",
       "      <td>59.8</td>\n",
       "      <td>61.0</td>\n",
       "      <td>326</td>\n",
       "      <td>3.89</td>\n",
       "      <td>3.84</td>\n",
       "      <td>2.31</td>\n",
       "      <td>0</td>\n",
       "    </tr>\n",
       "    <tr>\n",
       "      <th>2</th>\n",
       "      <td>3</td>\n",
       "      <td>0.23</td>\n",
       "      <td>Good</td>\n",
       "      <td>E</td>\n",
       "      <td>VS1</td>\n",
       "      <td>56.9</td>\n",
       "      <td>65.0</td>\n",
       "      <td>327</td>\n",
       "      <td>4.05</td>\n",
       "      <td>4.07</td>\n",
       "      <td>2.31</td>\n",
       "      <td>0</td>\n",
       "    </tr>\n",
       "  </tbody>\n",
       "</table>\n",
       "</div>"
      ],
      "text/plain": [
       "   Unnamed: 0  carat      cut color clarity  depth  table  price     x     y  \\\n",
       "0           1   0.23    Ideal     E     SI2   61.5   55.0    326  3.95  3.98   \n",
       "1           2   0.21  Premium     E     SI1   59.8   61.0    326  3.89  3.84   \n",
       "2           3   0.23     Good     E     VS1   56.9   65.0    327  4.05  4.07   \n",
       "\n",
       "      z  carat_binary  \n",
       "0  2.43             0  \n",
       "1  2.31             0  \n",
       "2  2.31             0  "
      ]
     },
     "execution_count": 8,
     "metadata": {},
     "output_type": "execute_result"
    }
   ],
   "source": [
    "#Create binary variable\n",
    "df['carat_binary'] = np.where(df.carat > 0.6, 1, 0)\n",
    "df.head(3)"
   ]
  },
  {
   "cell_type": "code",
   "execution_count": 9,
   "id": "1191bc24",
   "metadata": {
    "execution": {
     "iopub.execute_input": "2023-08-16T18:05:12.390629Z",
     "iopub.status.busy": "2023-08-16T18:05:12.390201Z",
     "iopub.status.idle": "2023-08-16T18:05:12.395562Z",
     "shell.execute_reply": "2023-08-16T18:05:12.394197Z"
    },
    "papermill": {
     "duration": 0.016448,
     "end_time": "2023-08-16T18:05:12.397668",
     "exception": false,
     "start_time": "2023-08-16T18:05:12.381220",
     "status": "completed"
    },
    "tags": []
   },
   "outputs": [],
   "source": [
    "#Linear Regression with binary variable and plot\n",
    "\n",
    "#Isolate X, y\n",
    "X = df.carat_binary\n",
    "y = df.price"
   ]
  },
  {
   "cell_type": "code",
   "execution_count": 10,
   "id": "0c027304",
   "metadata": {
    "execution": {
     "iopub.execute_input": "2023-08-16T18:05:12.415670Z",
     "iopub.status.busy": "2023-08-16T18:05:12.415172Z",
     "iopub.status.idle": "2023-08-16T18:05:12.423687Z",
     "shell.execute_reply": "2023-08-16T18:05:12.422789Z"
    },
    "papermill": {
     "duration": 0.020029,
     "end_time": "2023-08-16T18:05:12.425870",
     "exception": false,
     "start_time": "2023-08-16T18:05:12.405841",
     "status": "completed"
    },
    "tags": []
   },
   "outputs": [],
   "source": [
    "X = sm.add_constant(X)"
   ]
  },
  {
   "cell_type": "code",
   "execution_count": 11,
   "id": "3ddff37a",
   "metadata": {
    "execution": {
     "iopub.execute_input": "2023-08-16T18:05:12.443655Z",
     "iopub.status.busy": "2023-08-16T18:05:12.443214Z",
     "iopub.status.idle": "2023-08-16T18:05:12.480091Z",
     "shell.execute_reply": "2023-08-16T18:05:12.478931Z"
    },
    "papermill": {
     "duration": 0.051098,
     "end_time": "2023-08-16T18:05:12.484765",
     "exception": false,
     "start_time": "2023-08-16T18:05:12.433667",
     "status": "completed"
    },
    "tags": []
   },
   "outputs": [
    {
     "name": "stdout",
     "output_type": "stream",
     "text": [
      "                            OLS Regression Results                            \n",
      "==============================================================================\n",
      "Dep. Variable:                  price   R-squared:                       0.436\n",
      "Model:                            OLS   Adj. R-squared:                  0.436\n",
      "Method:                 Least Squares   F-statistic:                 4.176e+04\n",
      "Date:                Wed, 16 Aug 2023   Prob (F-statistic):               0.00\n",
      "Time:                        18:05:12   Log-Likelihood:            -5.0831e+05\n",
      "No. Observations:               53940   AIC:                         1.017e+06\n",
      "Df Residuals:                   53938   BIC:                         1.017e+06\n",
      "Df Model:                           1                                         \n",
      "Covariance Type:            nonrobust                                         \n",
      "================================================================================\n",
      "                   coef    std err          t      P>|t|      [0.025      0.975]\n",
      "--------------------------------------------------------------------------------\n",
      "const         1038.4328     19.156     54.210      0.000    1000.887    1075.978\n",
      "carat_binary  5293.7118     25.906    204.341      0.000    5242.935    5344.488\n",
      "==============================================================================\n",
      "Omnibus:                    16886.449   Durbin-Watson:                   0.156\n",
      "Prob(Omnibus):                  0.000   Jarque-Bera (JB):            53313.334\n",
      "Skew:                           1.617   Prob(JB):                         0.00\n",
      "Kurtosis:                       6.642   Cond. No.                         2.74\n",
      "==============================================================================\n",
      "\n",
      "Notes:\n",
      "[1] Standard Errors assume that the covariance matrix of the errors is correctly specified.\n"
     ]
    }
   ],
   "source": [
    "model2 = sm.OLS(endog = y, exog = X).fit()\n",
    "print(model2.summary())"
   ]
  },
  {
   "cell_type": "code",
   "execution_count": 12,
   "id": "fa1e4fc8",
   "metadata": {
    "execution": {
     "iopub.execute_input": "2023-08-16T18:05:12.520344Z",
     "iopub.status.busy": "2023-08-16T18:05:12.519677Z",
     "iopub.status.idle": "2023-08-16T18:05:13.000913Z",
     "shell.execute_reply": "2023-08-16T18:05:12.999703Z"
    },
    "papermill": {
     "duration": 0.502205,
     "end_time": "2023-08-16T18:05:13.003482",
     "exception": false,
     "start_time": "2023-08-16T18:05:12.501277",
     "status": "completed"
    },
    "tags": []
   },
   "outputs": [
    {
     "data": {
      "text/plain": [
       "Text(0, 0.5, 'Price')"
      ]
     },
     "execution_count": 12,
     "metadata": {},
     "output_type": "execute_result"
    },
    {
     "data": {
      "image/png": "[encoded data removed]",
      "text/plain": [
       "<Figure size 640x480 with 1 Axes>"
      ]
     },
     "metadata": {},
     "output_type": "display_data"
    }
   ],
   "source": [
    "#Plot\n",
    "X = df.carat_binary\n",
    "plt.plot(X, y, 'o')\n",
    "b, a = np.polyfit(X, y, 1)\n",
    "plt.plot(X, b*X + a)\n",
    "plt.xlabel('Carat above 0.6')\n",
    "plt.ylabel('Price')"
   ]
  }
 ],
 "metadata": {
  "kernelspec": {
   "display_name": "Python 3",
   "language": "python",
   "name": "python3"
  },
  "language_info": {
   "codemirror_mode": {
    "name": "ipython",
    "version": 3
   },
   "file_extension": ".py",
   "mimetype": "text/x-python",
   "name": "python",
   "nbconvert_exporter": "python",
   "pygments_lexer": "ipython3",
   "version": "3.10.12"
  },
  "papermill": {
   "default_parameters": {},
   "duration": 16.200657,
   "end_time": "2023-08-16T18:05:13.934012",
   "environment_variables": {},
   "exception": null,
   "input_path": "__notebook__.ipynb",
   "output_path": "__notebook__.ipynb",
   "parameters": {},
   "start_time": "2023-08-16T18:04:57.733355",
   "version": "2.4.0"
  }
 },
 "nbformat": 4,
 "nbformat_minor": 5
}

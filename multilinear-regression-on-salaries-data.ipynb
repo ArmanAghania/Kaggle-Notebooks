{
 "cells": [
  {
   "cell_type": "markdown",
   "id": "3bded518",
   "metadata": {
    "papermill": {
     "duration": 0.005131,
     "end_time": "2023-08-20T00:20:26.741083",
     "exception": false,
     "start_time": "2023-08-20T00:20:26.735952",
     "status": "completed"
    },
    "tags": []
   },
   "source": [
    "# Libraries, Directory, Data"
   ]
  },
  {
   "cell_type": "code",
   "execution_count": 1,
   "id": "8fd3cddd",
   "metadata": {
    "execution": {
     "iopub.execute_input": "2023-08-20T00:20:26.751823Z",
     "iopub.status.busy": "2023-08-20T00:20:26.751363Z",
     "iopub.status.idle": "2023-08-20T00:20:29.501071Z",
     "shell.execute_reply": "2023-08-20T00:20:29.500064Z"
    },
    "papermill": {
     "duration": 2.757786,
     "end_time": "2023-08-20T00:20:29.503365",
     "exception": false,
     "start_time": "2023-08-20T00:20:26.745579",
     "status": "completed"
    },
    "tags": []
   },
   "outputs": [
    {
     "name": "stderr",
     "output_type": "stream",
     "text": [
      "/opt/conda/lib/python3.10/site-packages/scipy/__init__.py:146: UserWarning: A NumPy version >=1.16.5 and <1.23.0 is required for this version of SciPy (detected version 1.23.5\n",
      "  warnings.warn(f\"A NumPy version >={np_minversion} and <{np_maxversion}\"\n"
     ]
    }
   ],
   "source": [
    "#Libraries\n",
    "import pandas as pd\n",
    "import statsmodels.api as sm\n",
    "import numpy as np\n",
    "import seaborn as sns"
   ]
  },
  {
   "cell_type": "markdown",
   "id": "cc2e2c9a",
   "metadata": {
    "papermill": {
     "duration": 0.004345,
     "end_time": "2023-08-20T00:20:29.512547",
     "exception": false,
     "start_time": "2023-08-20T00:20:29.508202",
     "status": "completed"
    },
    "tags": []
   },
   "source": [
    "# Salaries for Professors\n",
    "## Description\n",
    "The 2008-09 nine-month academic salary for Assistant Professors, Associate Professors and Professors in a\n",
    "college in the U.S. The data were collected as part of the on-going effort of the college's administration to\n",
    "monitor salary differences between male and female faculty members.\n",
    "# Usage\n",
    "Salaries\n",
    "# Format\n",
    "A data frame with 397 observations on the following 6 variables.\n",
    "* rank\n",
    "  * a factor with levels AssocProf AsstProf Prof\n",
    "* discipline\n",
    "  * a factor with levels A (“theoretical” departments) or B (“applied” departments).\n",
    "* yrs.since.phd\n",
    "  * years since PhD.\n",
    "* yrs.service\n",
    "  * years of service.\n",
    "* sex\n",
    "  * a factor with levels Female Male\n",
    "* salary\n",
    "  * nine-month salary, in dollars.\n",
    "\n",
    "## References\n",
    "Fox J. and Weisberg, S. (2019) An R Companion to Applied Regression, Third Edition, Sage."
   ]
  },
  {
   "cell_type": "code",
   "execution_count": 2,
   "id": "2406d3d0",
   "metadata": {
    "execution": {
     "iopub.execute_input": "2023-08-20T00:20:29.523206Z",
     "iopub.status.busy": "2023-08-20T00:20:29.522874Z",
     "iopub.status.idle": "2023-08-20T00:20:29.561254Z",
     "shell.execute_reply": "2023-08-20T00:20:29.559922Z"
    },
    "papermill": {
     "duration": 0.046289,
     "end_time": "2023-08-20T00:20:29.563329",
     "exception": false,
     "start_time": "2023-08-20T00:20:29.517040",
     "status": "completed"
    },
    "tags": []
   },
   "outputs": [
    {
     "data": {
      "text/html": [
       "<div>\n",
       "<style scoped>\n",
       "    .dataframe tbody tr th:only-of-type {\n",
       "        vertical-align: middle;\n",
       "    }\n",
       "\n",
       "    .dataframe tbody tr th {\n",
       "        vertical-align: top;\n",
       "    }\n",
       "\n",
       "    .dataframe thead th {\n",
       "        text-align: right;\n",
       "    }\n",
       "</style>\n",
       "<table border=\"1\" class=\"dataframe\">\n",
       "  <thead>\n",
       "    <tr style=\"text-align: right;\">\n",
       "      <th></th>\n",
       "      <th>rank</th>\n",
       "      <th>discipline</th>\n",
       "      <th>yrs.since.phd</th>\n",
       "      <th>yrs.service</th>\n",
       "      <th>sex</th>\n",
       "      <th>salary</th>\n",
       "    </tr>\n",
       "  </thead>\n",
       "  <tbody>\n",
       "    <tr>\n",
       "      <th>0</th>\n",
       "      <td>Prof</td>\n",
       "      <td>B</td>\n",
       "      <td>19</td>\n",
       "      <td>18</td>\n",
       "      <td>Male</td>\n",
       "      <td>139750</td>\n",
       "    </tr>\n",
       "    <tr>\n",
       "      <th>1</th>\n",
       "      <td>Prof</td>\n",
       "      <td>B</td>\n",
       "      <td>20</td>\n",
       "      <td>16</td>\n",
       "      <td>Male</td>\n",
       "      <td>173200</td>\n",
       "    </tr>\n",
       "    <tr>\n",
       "      <th>2</th>\n",
       "      <td>AsstProf</td>\n",
       "      <td>B</td>\n",
       "      <td>4</td>\n",
       "      <td>3</td>\n",
       "      <td>Male</td>\n",
       "      <td>79750</td>\n",
       "    </tr>\n",
       "    <tr>\n",
       "      <th>3</th>\n",
       "      <td>Prof</td>\n",
       "      <td>B</td>\n",
       "      <td>45</td>\n",
       "      <td>39</td>\n",
       "      <td>Male</td>\n",
       "      <td>115000</td>\n",
       "    </tr>\n",
       "    <tr>\n",
       "      <th>4</th>\n",
       "      <td>Prof</td>\n",
       "      <td>B</td>\n",
       "      <td>40</td>\n",
       "      <td>41</td>\n",
       "      <td>Male</td>\n",
       "      <td>141500</td>\n",
       "    </tr>\n",
       "  </tbody>\n",
       "</table>\n",
       "</div>"
      ],
      "text/plain": [
       "       rank discipline  yrs.since.phd  yrs.service   sex  salary\n",
       "0      Prof          B             19           18  Male  139750\n",
       "1      Prof          B             20           16  Male  173200\n",
       "2  AsstProf          B              4            3  Male   79750\n",
       "3      Prof          B             45           39  Male  115000\n",
       "4      Prof          B             40           41  Male  141500"
      ]
     },
     "execution_count": 2,
     "metadata": {},
     "output_type": "execute_result"
    }
   ],
   "source": [
    "#Load the data\n",
    "df = pd.read_csv('/kaggle/input/salaries/salary.csv')\n",
    "df.head()"
   ]
  },
  {
   "cell_type": "markdown",
   "id": "004ac55b",
   "metadata": {
    "papermill": {
     "duration": 0.004524,
     "end_time": "2023-08-20T00:20:29.572825",
     "exception": false,
     "start_time": "2023-08-20T00:20:29.568301",
     "status": "completed"
    },
    "tags": []
   },
   "source": [
    "# Analysing the Data"
   ]
  },
  {
   "cell_type": "code",
   "execution_count": 3,
   "id": "a2507758",
   "metadata": {
    "execution": {
     "iopub.execute_input": "2023-08-20T00:20:29.584127Z",
     "iopub.status.busy": "2023-08-20T00:20:29.583725Z",
     "iopub.status.idle": "2023-08-20T00:20:29.604687Z",
     "shell.execute_reply": "2023-08-20T00:20:29.603758Z"
    },
    "papermill": {
     "duration": 0.02911,
     "end_time": "2023-08-20T00:20:29.606719",
     "exception": false,
     "start_time": "2023-08-20T00:20:29.577609",
     "status": "completed"
    },
    "tags": []
   },
   "outputs": [
    {
     "data": {
      "text/html": [
       "<div>\n",
       "<style scoped>\n",
       "    .dataframe tbody tr th:only-of-type {\n",
       "        vertical-align: middle;\n",
       "    }\n",
       "\n",
       "    .dataframe tbody tr th {\n",
       "        vertical-align: top;\n",
       "    }\n",
       "\n",
       "    .dataframe thead th {\n",
       "        text-align: right;\n",
       "    }\n",
       "</style>\n",
       "<table border=\"1\" class=\"dataframe\">\n",
       "  <thead>\n",
       "    <tr style=\"text-align: right;\">\n",
       "      <th></th>\n",
       "      <th>yrs.since.phd</th>\n",
       "      <th>yrs.service</th>\n",
       "      <th>salary</th>\n",
       "    </tr>\n",
       "  </thead>\n",
       "  <tbody>\n",
       "    <tr>\n",
       "      <th>count</th>\n",
       "      <td>397.000000</td>\n",
       "      <td>397.000000</td>\n",
       "      <td>397.000000</td>\n",
       "    </tr>\n",
       "    <tr>\n",
       "      <th>mean</th>\n",
       "      <td>22.314861</td>\n",
       "      <td>17.614610</td>\n",
       "      <td>113706.458438</td>\n",
       "    </tr>\n",
       "    <tr>\n",
       "      <th>std</th>\n",
       "      <td>12.887003</td>\n",
       "      <td>13.006024</td>\n",
       "      <td>30289.038695</td>\n",
       "    </tr>\n",
       "    <tr>\n",
       "      <th>min</th>\n",
       "      <td>1.000000</td>\n",
       "      <td>0.000000</td>\n",
       "      <td>57800.000000</td>\n",
       "    </tr>\n",
       "    <tr>\n",
       "      <th>25%</th>\n",
       "      <td>12.000000</td>\n",
       "      <td>7.000000</td>\n",
       "      <td>91000.000000</td>\n",
       "    </tr>\n",
       "    <tr>\n",
       "      <th>50%</th>\n",
       "      <td>21.000000</td>\n",
       "      <td>16.000000</td>\n",
       "      <td>107300.000000</td>\n",
       "    </tr>\n",
       "    <tr>\n",
       "      <th>75%</th>\n",
       "      <td>32.000000</td>\n",
       "      <td>27.000000</td>\n",
       "      <td>134185.000000</td>\n",
       "    </tr>\n",
       "    <tr>\n",
       "      <th>max</th>\n",
       "      <td>56.000000</td>\n",
       "      <td>60.000000</td>\n",
       "      <td>231545.000000</td>\n",
       "    </tr>\n",
       "  </tbody>\n",
       "</table>\n",
       "</div>"
      ],
      "text/plain": [
       "       yrs.since.phd  yrs.service         salary\n",
       "count     397.000000   397.000000     397.000000\n",
       "mean       22.314861    17.614610  113706.458438\n",
       "std        12.887003    13.006024   30289.038695\n",
       "min         1.000000     0.000000   57800.000000\n",
       "25%        12.000000     7.000000   91000.000000\n",
       "50%        21.000000    16.000000  107300.000000\n",
       "75%        32.000000    27.000000  134185.000000\n",
       "max        56.000000    60.000000  231545.000000"
      ]
     },
     "execution_count": 3,
     "metadata": {},
     "output_type": "execute_result"
    }
   ],
   "source": [
    "#Summary Statistics\n",
    "df.describe()"
   ]
  },
  {
   "cell_type": "code",
   "execution_count": 4,
   "id": "ac60f572",
   "metadata": {
    "execution": {
     "iopub.execute_input": "2023-08-20T00:20:29.618799Z",
     "iopub.status.busy": "2023-08-20T00:20:29.618415Z",
     "iopub.status.idle": "2023-08-20T00:20:30.323325Z",
     "shell.execute_reply": "2023-08-20T00:20:30.322138Z"
    },
    "papermill": {
     "duration": 0.713609,
     "end_time": "2023-08-20T00:20:30.325478",
     "exception": false,
     "start_time": "2023-08-20T00:20:29.611869",
     "status": "completed"
    },
    "tags": []
   },
   "outputs": [
    {
     "name": "stderr",
     "output_type": "stream",
     "text": [
      "/opt/conda/lib/python3.10/site-packages/seaborn/axisgrid.py:118: UserWarning: The figure layout has changed to tight\n",
      "  self._figure.tight_layout(*args, **kwargs)\n"
     ]
    },
    {
     "data": {
      "text/plain": [
       "<seaborn.axisgrid.PairGrid at 0x7d7fc1647f70>"
      ]
     },
     "execution_count": 4,
     "metadata": {},
     "output_type": "execute_result"
    },
    {
     "data": {
      "image/png": "[encoded data removed]",
      "text/plain": [
       "<Figure size 1200x600 with 2 Axes>"
      ]
     },
     "metadata": {},
     "output_type": "display_data"
    }
   ],
   "source": [
    "#Plotting Continiuous IV against dependent variable\n",
    "sns.set(font_scale = 2)\n",
    "sns.pairplot(data = df,\n",
    "             y_vars = ['salary'],\n",
    "             x_vars = ['yrs.service', 'yrs.since.phd'],\n",
    "             height = 6)"
   ]
  },
  {
   "cell_type": "code",
   "execution_count": 5,
   "id": "81d38a10",
   "metadata": {
    "execution": {
     "iopub.execute_input": "2023-08-20T00:20:30.339054Z",
     "iopub.status.busy": "2023-08-20T00:20:30.338688Z",
     "iopub.status.idle": "2023-08-20T00:20:30.639524Z",
     "shell.execute_reply": "2023-08-20T00:20:30.638441Z"
    },
    "papermill": {
     "duration": 0.310721,
     "end_time": "2023-08-20T00:20:30.642319",
     "exception": false,
     "start_time": "2023-08-20T00:20:30.331598",
     "status": "completed"
    },
    "tags": []
   },
   "outputs": [
    {
     "name": "stderr",
     "output_type": "stream",
     "text": [
      "/tmp/ipykernel_20/1765062427.py:4: FutureWarning: The default value of numeric_only in DataFrame.corr is deprecated. In a future version, it will default to False. Select only valid columns or specify the value of numeric_only to silence this warning.\n",
      "  sns.heatmap(df.corr(),\n"
     ]
    },
    {
     "data": {
      "text/plain": [
       "<Axes: >"
      ]
     },
     "execution_count": 5,
     "metadata": {},
     "output_type": "execute_result"
    },
    {
     "data": {
      "image/png": "[encoded data removed]",
      "text/plain": [
       "<Figure size 640x480 with 2 Axes>"
      ]
     },
     "metadata": {},
     "output_type": "display_data"
    }
   ],
   "source": [
    " #Correlation Matrix\n",
    "sns.set(font_scale = 1)\n",
    "\n",
    "sns.heatmap(df.corr(),\n",
    "            annot = True,\n",
    "            fmt = '.2g',\n",
    "            center = 0,\n",
    "            cmap = 'coolwarm',\n",
    "            linewidths = 1,\n",
    "            linecolor = 'white')"
   ]
  },
  {
   "cell_type": "code",
   "execution_count": 6,
   "id": "21f03d34",
   "metadata": {
    "execution": {
     "iopub.execute_input": "2023-08-20T00:20:30.658256Z",
     "iopub.status.busy": "2023-08-20T00:20:30.657902Z",
     "iopub.status.idle": "2023-08-20T00:20:30.674818Z",
     "shell.execute_reply": "2023-08-20T00:20:30.673656Z"
    },
    "papermill": {
     "duration": 0.026874,
     "end_time": "2023-08-20T00:20:30.677184",
     "exception": false,
     "start_time": "2023-08-20T00:20:30.650310",
     "status": "completed"
    },
    "tags": []
   },
   "outputs": [
    {
     "data": {
      "text/plain": [
       "rank       discipline  sex   \n",
       "Prof       B           Male      125\n",
       "           A           Male      123\n",
       "AsstProf   B           Male       38\n",
       "AssocProf  B           Male       32\n",
       "           A           Male       22\n",
       "AsstProf   A           Male       18\n",
       "Prof       B           Female     10\n",
       "           A           Female      8\n",
       "AssocProf  B           Female      6\n",
       "AsstProf   A           Female      6\n",
       "           B           Female      5\n",
       "AssocProf  A           Female      4\n",
       "dtype: int64"
      ]
     },
     "execution_count": 6,
     "metadata": {},
     "output_type": "execute_result"
    }
   ],
   "source": [
    "#Categorical Variables\n",
    "df['rank'].value_counts()\n",
    "df.select_dtypes(include = 'object').value_counts()"
   ]
  },
  {
   "cell_type": "code",
   "execution_count": 7,
   "id": "b92a57ec",
   "metadata": {
    "execution": {
     "iopub.execute_input": "2023-08-20T00:20:30.691757Z",
     "iopub.status.busy": "2023-08-20T00:20:30.691133Z",
     "iopub.status.idle": "2023-08-20T00:20:30.700060Z",
     "shell.execute_reply": "2023-08-20T00:20:30.699090Z"
    },
    "papermill": {
     "duration": 0.018442,
     "end_time": "2023-08-20T00:20:30.702174",
     "exception": false,
     "start_time": "2023-08-20T00:20:30.683732",
     "status": "completed"
    },
    "tags": []
   },
   "outputs": [
    {
     "name": "stdout",
     "output_type": "stream",
     "text": [
      "Prof         266\n",
      "AsstProf      67\n",
      "AssocProf     64\n",
      "Name: rank, dtype: int64\n",
      "B    216\n",
      "A    181\n",
      "Name: discipline, dtype: int64\n",
      "Male      358\n",
      "Female     39\n",
      "Name: sex, dtype: int64\n"
     ]
    }
   ],
   "source": [
    "#For Loop Categorical Variables\n",
    "categorical = list(df.select_dtypes(include = 'object'))\n",
    "for cat in categorical:\n",
    "  print(df[cat].value_counts())"
   ]
  },
  {
   "cell_type": "code",
   "execution_count": 8,
   "id": "b1e1db21",
   "metadata": {
    "execution": {
     "iopub.execute_input": "2023-08-20T00:20:30.716724Z",
     "iopub.status.busy": "2023-08-20T00:20:30.716344Z",
     "iopub.status.idle": "2023-08-20T00:20:30.726665Z",
     "shell.execute_reply": "2023-08-20T00:20:30.725620Z"
    },
    "papermill": {
     "duration": 0.020462,
     "end_time": "2023-08-20T00:20:30.729118",
     "exception": false,
     "start_time": "2023-08-20T00:20:30.708656",
     "status": "completed"
    },
    "tags": []
   },
   "outputs": [
    {
     "data": {
      "text/html": [
       "<div>\n",
       "<style scoped>\n",
       "    .dataframe tbody tr th:only-of-type {\n",
       "        vertical-align: middle;\n",
       "    }\n",
       "\n",
       "    .dataframe tbody tr th {\n",
       "        vertical-align: top;\n",
       "    }\n",
       "\n",
       "    .dataframe thead th {\n",
       "        text-align: right;\n",
       "    }\n",
       "</style>\n",
       "<table border=\"1\" class=\"dataframe\">\n",
       "  <thead>\n",
       "    <tr style=\"text-align: right;\">\n",
       "      <th></th>\n",
       "      <th>rank</th>\n",
       "      <th>discipline</th>\n",
       "      <th>yrs.since.phd</th>\n",
       "      <th>yrs.service</th>\n",
       "      <th>sex</th>\n",
       "      <th>salary</th>\n",
       "    </tr>\n",
       "  </thead>\n",
       "  <tbody>\n",
       "    <tr>\n",
       "      <th>0</th>\n",
       "      <td>Prof</td>\n",
       "      <td>B</td>\n",
       "      <td>19</td>\n",
       "      <td>18</td>\n",
       "      <td>Male</td>\n",
       "      <td>139750</td>\n",
       "    </tr>\n",
       "    <tr>\n",
       "      <th>1</th>\n",
       "      <td>Prof</td>\n",
       "      <td>B</td>\n",
       "      <td>20</td>\n",
       "      <td>16</td>\n",
       "      <td>Male</td>\n",
       "      <td>173200</td>\n",
       "    </tr>\n",
       "    <tr>\n",
       "      <th>2</th>\n",
       "      <td>AsstProf</td>\n",
       "      <td>B</td>\n",
       "      <td>4</td>\n",
       "      <td>3</td>\n",
       "      <td>Male</td>\n",
       "      <td>79750</td>\n",
       "    </tr>\n",
       "    <tr>\n",
       "      <th>3</th>\n",
       "      <td>Prof</td>\n",
       "      <td>B</td>\n",
       "      <td>45</td>\n",
       "      <td>39</td>\n",
       "      <td>Male</td>\n",
       "      <td>115000</td>\n",
       "    </tr>\n",
       "    <tr>\n",
       "      <th>4</th>\n",
       "      <td>Prof</td>\n",
       "      <td>B</td>\n",
       "      <td>40</td>\n",
       "      <td>41</td>\n",
       "      <td>Male</td>\n",
       "      <td>141500</td>\n",
       "    </tr>\n",
       "  </tbody>\n",
       "</table>\n",
       "</div>"
      ],
      "text/plain": [
       "       rank discipline  yrs.since.phd  yrs.service   sex  salary\n",
       "0      Prof          B             19           18  Male  139750\n",
       "1      Prof          B             20           16  Male  173200\n",
       "2  AsstProf          B              4            3  Male   79750\n",
       "3      Prof          B             45           39  Male  115000\n",
       "4      Prof          B             40           41  Male  141500"
      ]
     },
     "execution_count": 8,
     "metadata": {},
     "output_type": "execute_result"
    }
   ],
   "source": [
    "#Look at the Data Set\n",
    "df.head()"
   ]
  },
  {
   "cell_type": "code",
   "execution_count": 9,
   "id": "31cd117e",
   "metadata": {
    "execution": {
     "iopub.execute_input": "2023-08-20T00:20:30.745090Z",
     "iopub.status.busy": "2023-08-20T00:20:30.744711Z",
     "iopub.status.idle": "2023-08-20T00:20:30.759343Z",
     "shell.execute_reply": "2023-08-20T00:20:30.758260Z"
    },
    "papermill": {
     "duration": 0.025231,
     "end_time": "2023-08-20T00:20:30.761358",
     "exception": false,
     "start_time": "2023-08-20T00:20:30.736127",
     "status": "completed"
    },
    "tags": []
   },
   "outputs": [
    {
     "data": {
      "text/html": [
       "<div>\n",
       "<style scoped>\n",
       "    .dataframe tbody tr th:only-of-type {\n",
       "        vertical-align: middle;\n",
       "    }\n",
       "\n",
       "    .dataframe tbody tr th {\n",
       "        vertical-align: top;\n",
       "    }\n",
       "\n",
       "    .dataframe thead th {\n",
       "        text-align: right;\n",
       "    }\n",
       "</style>\n",
       "<table border=\"1\" class=\"dataframe\">\n",
       "  <thead>\n",
       "    <tr style=\"text-align: right;\">\n",
       "      <th></th>\n",
       "      <th>yrs.since.phd</th>\n",
       "      <th>yrs.service</th>\n",
       "      <th>salary</th>\n",
       "      <th>rank_AsstProf</th>\n",
       "      <th>rank_Prof</th>\n",
       "      <th>discipline_B</th>\n",
       "      <th>sex_Male</th>\n",
       "    </tr>\n",
       "  </thead>\n",
       "  <tbody>\n",
       "    <tr>\n",
       "      <th>0</th>\n",
       "      <td>19</td>\n",
       "      <td>18</td>\n",
       "      <td>139750</td>\n",
       "      <td>0</td>\n",
       "      <td>1</td>\n",
       "      <td>1</td>\n",
       "      <td>1</td>\n",
       "    </tr>\n",
       "    <tr>\n",
       "      <th>1</th>\n",
       "      <td>20</td>\n",
       "      <td>16</td>\n",
       "      <td>173200</td>\n",
       "      <td>0</td>\n",
       "      <td>1</td>\n",
       "      <td>1</td>\n",
       "      <td>1</td>\n",
       "    </tr>\n",
       "    <tr>\n",
       "      <th>2</th>\n",
       "      <td>4</td>\n",
       "      <td>3</td>\n",
       "      <td>79750</td>\n",
       "      <td>1</td>\n",
       "      <td>0</td>\n",
       "      <td>1</td>\n",
       "      <td>1</td>\n",
       "    </tr>\n",
       "    <tr>\n",
       "      <th>3</th>\n",
       "      <td>45</td>\n",
       "      <td>39</td>\n",
       "      <td>115000</td>\n",
       "      <td>0</td>\n",
       "      <td>1</td>\n",
       "      <td>1</td>\n",
       "      <td>1</td>\n",
       "    </tr>\n",
       "    <tr>\n",
       "      <th>4</th>\n",
       "      <td>40</td>\n",
       "      <td>41</td>\n",
       "      <td>141500</td>\n",
       "      <td>0</td>\n",
       "      <td>1</td>\n",
       "      <td>1</td>\n",
       "      <td>1</td>\n",
       "    </tr>\n",
       "  </tbody>\n",
       "</table>\n",
       "</div>"
      ],
      "text/plain": [
       "   yrs.since.phd  yrs.service  salary  rank_AsstProf  rank_Prof  discipline_B  \\\n",
       "0             19           18  139750              0          1             1   \n",
       "1             20           16  173200              0          1             1   \n",
       "2              4            3   79750              1          0             1   \n",
       "3             45           39  115000              0          1             1   \n",
       "4             40           41  141500              0          1             1   \n",
       "\n",
       "   sex_Male  \n",
       "0         1  \n",
       "1         1  \n",
       "2         1  \n",
       "3         1  \n",
       "4         1  "
      ]
     },
     "execution_count": 9,
     "metadata": {},
     "output_type": "execute_result"
    }
   ],
   "source": [
    "#Transform objects into dummmies\n",
    "df = pd.get_dummies(data =  df, drop_first = True)\n",
    "df.head()"
   ]
  },
  {
   "cell_type": "markdown",
   "id": "3c50fc09",
   "metadata": {
    "papermill": {
     "duration": 0.006745,
     "end_time": "2023-08-20T00:20:30.775290",
     "exception": false,
     "start_time": "2023-08-20T00:20:30.768545",
     "status": "completed"
    },
    "tags": []
   },
   "source": [
    "# Multilinear Regression Preperation"
   ]
  },
  {
   "cell_type": "code",
   "execution_count": 10,
   "id": "43b46941",
   "metadata": {
    "execution": {
     "iopub.execute_input": "2023-08-20T00:20:30.790713Z",
     "iopub.status.busy": "2023-08-20T00:20:30.790295Z",
     "iopub.status.idle": "2023-08-20T00:20:30.797138Z",
     "shell.execute_reply": "2023-08-20T00:20:30.795953Z"
    },
    "papermill": {
     "duration": 0.016856,
     "end_time": "2023-08-20T00:20:30.798985",
     "exception": false,
     "start_time": "2023-08-20T00:20:30.782129",
     "status": "completed"
    },
    "tags": []
   },
   "outputs": [],
   "source": [
    "#Isolate X and y\n",
    "y = df.salary / 1000\n",
    "X = df.drop(columns = ['salary', 'yrs.service'])"
   ]
  },
  {
   "cell_type": "code",
   "execution_count": 11,
   "id": "e496558a",
   "metadata": {
    "execution": {
     "iopub.execute_input": "2023-08-20T00:20:30.815549Z",
     "iopub.status.busy": "2023-08-20T00:20:30.815151Z",
     "iopub.status.idle": "2023-08-20T00:20:30.828947Z",
     "shell.execute_reply": "2023-08-20T00:20:30.827702Z"
    },
    "papermill": {
     "duration": 0.024452,
     "end_time": "2023-08-20T00:20:30.831322",
     "exception": false,
     "start_time": "2023-08-20T00:20:30.806870",
     "status": "completed"
    },
    "tags": []
   },
   "outputs": [
    {
     "data": {
      "text/html": [
       "<div>\n",
       "<style scoped>\n",
       "    .dataframe tbody tr th:only-of-type {\n",
       "        vertical-align: middle;\n",
       "    }\n",
       "\n",
       "    .dataframe tbody tr th {\n",
       "        vertical-align: top;\n",
       "    }\n",
       "\n",
       "    .dataframe thead th {\n",
       "        text-align: right;\n",
       "    }\n",
       "</style>\n",
       "<table border=\"1\" class=\"dataframe\">\n",
       "  <thead>\n",
       "    <tr style=\"text-align: right;\">\n",
       "      <th></th>\n",
       "      <th>const</th>\n",
       "      <th>yrs.since.phd</th>\n",
       "      <th>rank_AsstProf</th>\n",
       "      <th>rank_Prof</th>\n",
       "      <th>discipline_B</th>\n",
       "      <th>sex_Male</th>\n",
       "    </tr>\n",
       "  </thead>\n",
       "  <tbody>\n",
       "    <tr>\n",
       "      <th>0</th>\n",
       "      <td>1.0</td>\n",
       "      <td>19</td>\n",
       "      <td>0</td>\n",
       "      <td>1</td>\n",
       "      <td>1</td>\n",
       "      <td>1</td>\n",
       "    </tr>\n",
       "    <tr>\n",
       "      <th>1</th>\n",
       "      <td>1.0</td>\n",
       "      <td>20</td>\n",
       "      <td>0</td>\n",
       "      <td>1</td>\n",
       "      <td>1</td>\n",
       "      <td>1</td>\n",
       "    </tr>\n",
       "    <tr>\n",
       "      <th>2</th>\n",
       "      <td>1.0</td>\n",
       "      <td>4</td>\n",
       "      <td>1</td>\n",
       "      <td>0</td>\n",
       "      <td>1</td>\n",
       "      <td>1</td>\n",
       "    </tr>\n",
       "    <tr>\n",
       "      <th>3</th>\n",
       "      <td>1.0</td>\n",
       "      <td>45</td>\n",
       "      <td>0</td>\n",
       "      <td>1</td>\n",
       "      <td>1</td>\n",
       "      <td>1</td>\n",
       "    </tr>\n",
       "    <tr>\n",
       "      <th>4</th>\n",
       "      <td>1.0</td>\n",
       "      <td>40</td>\n",
       "      <td>0</td>\n",
       "      <td>1</td>\n",
       "      <td>1</td>\n",
       "      <td>1</td>\n",
       "    </tr>\n",
       "  </tbody>\n",
       "</table>\n",
       "</div>"
      ],
      "text/plain": [
       "   const  yrs.since.phd  rank_AsstProf  rank_Prof  discipline_B  sex_Male\n",
       "0    1.0             19              0          1             1         1\n",
       "1    1.0             20              0          1             1         1\n",
       "2    1.0              4              1          0             1         1\n",
       "3    1.0             45              0          1             1         1\n",
       "4    1.0             40              0          1             1         1"
      ]
     },
     "execution_count": 11,
     "metadata": {},
     "output_type": "execute_result"
    }
   ],
   "source": [
    "#Add a constant\n",
    "X = sm.add_constant(X)\n",
    "X.head()"
   ]
  },
  {
   "cell_type": "code",
   "execution_count": 12,
   "id": "d894de8a",
   "metadata": {
    "execution": {
     "iopub.execute_input": "2023-08-20T00:20:30.849748Z",
     "iopub.status.busy": "2023-08-20T00:20:30.849426Z",
     "iopub.status.idle": "2023-08-20T00:20:31.081190Z",
     "shell.execute_reply": "2023-08-20T00:20:31.079988Z"
    },
    "papermill": {
     "duration": 0.242411,
     "end_time": "2023-08-20T00:20:31.083586",
     "exception": false,
     "start_time": "2023-08-20T00:20:30.841175",
     "status": "completed"
    },
    "tags": []
   },
   "outputs": [
    {
     "data": {
      "text/html": [
       "<div>\n",
       "<style scoped>\n",
       "    .dataframe tbody tr th:only-of-type {\n",
       "        vertical-align: middle;\n",
       "    }\n",
       "\n",
       "    .dataframe tbody tr th {\n",
       "        vertical-align: top;\n",
       "    }\n",
       "\n",
       "    .dataframe thead th {\n",
       "        text-align: right;\n",
       "    }\n",
       "</style>\n",
       "<table border=\"1\" class=\"dataframe\">\n",
       "  <thead>\n",
       "    <tr style=\"text-align: right;\">\n",
       "      <th></th>\n",
       "      <th>const</th>\n",
       "      <th>yrs.since.phd</th>\n",
       "      <th>rank_AsstProf</th>\n",
       "      <th>rank_Prof</th>\n",
       "      <th>discipline_B</th>\n",
       "      <th>sex_Male</th>\n",
       "    </tr>\n",
       "  </thead>\n",
       "  <tbody>\n",
       "    <tr>\n",
       "      <th>105</th>\n",
       "      <td>1.0</td>\n",
       "      <td>31</td>\n",
       "      <td>0</td>\n",
       "      <td>1</td>\n",
       "      <td>0</td>\n",
       "      <td>1</td>\n",
       "    </tr>\n",
       "    <tr>\n",
       "      <th>287</th>\n",
       "      <td>1.0</td>\n",
       "      <td>2</td>\n",
       "      <td>1</td>\n",
       "      <td>0</td>\n",
       "      <td>0</td>\n",
       "      <td>1</td>\n",
       "    </tr>\n",
       "    <tr>\n",
       "      <th>326</th>\n",
       "      <td>1.0</td>\n",
       "      <td>23</td>\n",
       "      <td>0</td>\n",
       "      <td>1</td>\n",
       "      <td>1</td>\n",
       "      <td>1</td>\n",
       "    </tr>\n",
       "    <tr>\n",
       "      <th>15</th>\n",
       "      <td>1.0</td>\n",
       "      <td>12</td>\n",
       "      <td>0</td>\n",
       "      <td>1</td>\n",
       "      <td>1</td>\n",
       "      <td>1</td>\n",
       "    </tr>\n",
       "    <tr>\n",
       "      <th>354</th>\n",
       "      <td>1.0</td>\n",
       "      <td>8</td>\n",
       "      <td>1</td>\n",
       "      <td>0</td>\n",
       "      <td>1</td>\n",
       "      <td>1</td>\n",
       "    </tr>\n",
       "  </tbody>\n",
       "</table>\n",
       "</div>"
      ],
      "text/plain": [
       "     const  yrs.since.phd  rank_AsstProf  rank_Prof  discipline_B  sex_Male\n",
       "105    1.0             31              0          1             0         1\n",
       "287    1.0              2              1          0             0         1\n",
       "326    1.0             23              0          1             1         1\n",
       "15     1.0             12              0          1             1         1\n",
       "354    1.0              8              1          0             1         1"
      ]
     },
     "execution_count": 12,
     "metadata": {},
     "output_type": "execute_result"
    }
   ],
   "source": [
    "#Training and Test Set\n",
    "from sklearn.model_selection import train_test_split\n",
    "X_train, X_test, y_train, y_test = train_test_split(X, y,\n",
    "                                                    test_size = 0.2,\n",
    "                                                    random_state = 1502)\n",
    "X_train.head()"
   ]
  },
  {
   "cell_type": "code",
   "execution_count": 13,
   "id": "f3697703",
   "metadata": {
    "execution": {
     "iopub.execute_input": "2023-08-20T00:20:31.100062Z",
     "iopub.status.busy": "2023-08-20T00:20:31.099679Z",
     "iopub.status.idle": "2023-08-20T00:20:31.108874Z",
     "shell.execute_reply": "2023-08-20T00:20:31.107654Z"
    },
    "papermill": {
     "duration": 0.020088,
     "end_time": "2023-08-20T00:20:31.111333",
     "exception": false,
     "start_time": "2023-08-20T00:20:31.091245",
     "status": "completed"
    },
    "tags": []
   },
   "outputs": [],
   "source": [
    "#Multilinear Regression\n",
    "model = sm.OLS(y_train, X_train).fit()"
   ]
  },
  {
   "cell_type": "code",
   "execution_count": 14,
   "id": "ab2d1a8a",
   "metadata": {
    "execution": {
     "iopub.execute_input": "2023-08-20T00:20:31.128727Z",
     "iopub.status.busy": "2023-08-20T00:20:31.128055Z",
     "iopub.status.idle": "2023-08-20T00:20:31.143257Z",
     "shell.execute_reply": "2023-08-20T00:20:31.141163Z"
    },
    "papermill": {
     "duration": 0.026486,
     "end_time": "2023-08-20T00:20:31.145307",
     "exception": false,
     "start_time": "2023-08-20T00:20:31.118821",
     "status": "completed"
    },
    "tags": []
   },
   "outputs": [
    {
     "name": "stdout",
     "output_type": "stream",
     "text": [
      "                            OLS Regression Results                            \n",
      "==============================================================================\n",
      "Dep. Variable:                 salary   R-squared:                       0.475\n",
      "Model:                            OLS   Adj. R-squared:                  0.466\n",
      "Method:                 Least Squares   F-statistic:                     56.20\n",
      "Date:                Sun, 20 Aug 2023   Prob (F-statistic):           1.65e-41\n",
      "Time:                        00:20:31   Log-Likelihood:                -1424.2\n",
      "No. Observations:                 317   AIC:                             2860.\n",
      "Df Residuals:                     311   BIC:                             2883.\n",
      "Df Model:                           5                                         \n",
      "Covariance Type:            nonrobust                                         \n",
      "=================================================================================\n",
      "                    coef    std err          t      P>|t|      [0.025      0.975]\n",
      "---------------------------------------------------------------------------------\n",
      "const            79.6855      5.408     14.735      0.000      69.045      90.326\n",
      "yrs.since.phd    -0.0283      0.134     -0.211      0.833      -0.293       0.236\n",
      "rank_AsstProf   -13.1259      4.629     -2.836      0.005     -22.233      -4.019\n",
      "rank_Prof        34.7651      3.930      8.846      0.000      27.032      42.498\n",
      "discipline_B     15.6270      2.560      6.105      0.000      10.591      20.663\n",
      "sex_Male          5.3569      4.277      1.252      0.211      -3.059      13.773\n",
      "==============================================================================\n",
      "Omnibus:                       39.418   Durbin-Watson:                   2.086\n",
      "Prob(Omnibus):                  0.000   Jarque-Bera (JB):               69.815\n",
      "Skew:                           0.715   Prob(JB):                     6.92e-16\n",
      "Kurtosis:                       4.800   Cond. No.                         146.\n",
      "==============================================================================\n",
      "\n",
      "Notes:\n",
      "[1] Standard Errors assume that the covariance matrix of the errors is correctly specified.\n"
     ]
    }
   ],
   "source": [
    "print(model.summary())"
   ]
  },
  {
   "cell_type": "markdown",
   "id": "3de0a959",
   "metadata": {
    "papermill": {
     "duration": 0.00699,
     "end_time": "2023-08-20T00:20:31.159878",
     "exception": false,
     "start_time": "2023-08-20T00:20:31.152888",
     "status": "completed"
    },
    "tags": []
   },
   "source": [
    "# Accuracy Assessment"
   ]
  },
  {
   "cell_type": "code",
   "execution_count": 15,
   "id": "4aeaba5c",
   "metadata": {
    "execution": {
     "iopub.execute_input": "2023-08-20T00:20:31.176199Z",
     "iopub.status.busy": "2023-08-20T00:20:31.175591Z",
     "iopub.status.idle": "2023-08-20T00:20:31.182441Z",
     "shell.execute_reply": "2023-08-20T00:20:31.181728Z"
    },
    "papermill": {
     "duration": 0.017039,
     "end_time": "2023-08-20T00:20:31.184017",
     "exception": false,
     "start_time": "2023-08-20T00:20:31.166978",
     "status": "completed"
    },
    "tags": []
   },
   "outputs": [
    {
     "data": {
      "text/plain": [
       "364    118.590061\n",
       "30     134.868270\n",
       "378    118.731635\n",
       "188     99.876615\n",
       "dtype: float64"
      ]
     },
     "execution_count": 15,
     "metadata": {},
     "output_type": "execute_result"
    }
   ],
   "source": [
    "#Predict\n",
    "predictions = model.predict(X_test)\n",
    "predictions[0:4]"
   ]
  },
  {
   "cell_type": "code",
   "execution_count": 16,
   "id": "c5db0df1",
   "metadata": {
    "execution": {
     "iopub.execute_input": "2023-08-20T00:20:31.200763Z",
     "iopub.status.busy": "2023-08-20T00:20:31.200111Z",
     "iopub.status.idle": "2023-08-20T00:20:31.207248Z",
     "shell.execute_reply": "2023-08-20T00:20:31.205694Z"
    },
    "papermill": {
     "duration": 0.018142,
     "end_time": "2023-08-20T00:20:31.209690",
     "exception": false,
     "start_time": "2023-08-20T00:20:31.191548",
     "status": "completed"
    },
    "tags": []
   },
   "outputs": [
    {
     "name": "stdout",
     "output_type": "stream",
     "text": [
      "MAE 18.2\n",
      "RMSE 25.8\n"
     ]
    }
   ],
   "source": [
    "#Accuracy Assessment\n",
    "from sklearn.metrics import mean_absolute_error, mean_squared_error\n",
    "print('MAE', round(mean_absolute_error(y_test, predictions), 1))\n",
    "print('RMSE', round(np.sqrt(mean_squared_error(y_test, predictions)),1))"
   ]
  },
  {
   "cell_type": "code",
   "execution_count": null,
   "id": "5e136447",
   "metadata": {
    "papermill": {
     "duration": 0.007052,
     "end_time": "2023-08-20T00:20:31.224478",
     "exception": false,
     "start_time": "2023-08-20T00:20:31.217426",
     "status": "completed"
    },
    "tags": []
   },
   "outputs": [],
   "source": []
  }
 ],
 "metadata": {
  "kernelspec": {
   "display_name": "Python 3",
   "language": "python",
   "name": "python3"
  },
  "language_info": {
   "codemirror_mode": {
    "name": "ipython",
    "version": 3
   },
   "file_extension": ".py",
   "mimetype": "text/x-python",
   "name": "python",
   "nbconvert_exporter": "python",
   "pygments_lexer": "ipython3",
   "version": "3.10.12"
  },
  "papermill": {
   "default_parameters": {},
   "duration": 15.423739,
   "end_time": "2023-08-20T00:20:32.253725",
   "environment_variables": {},
   "exception": null,
   "input_path": "__notebook__.ipynb",
   "output_path": "__notebook__.ipynb",
   "parameters": {},
   "start_time": "2023-08-20T00:20:16.829986",
   "version": "2.4.0"
  }
 },
 "nbformat": 4,
 "nbformat_minor": 5
}
